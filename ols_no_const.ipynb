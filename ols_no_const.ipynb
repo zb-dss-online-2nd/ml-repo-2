{
 "cells": [
  {
   "cell_type": "code",
   "execution_count": 1,
   "metadata": {},
   "outputs": [],
   "source": [
    "import pandas as pd \n",
    "import statsmodels.api as sm\n",
    "import numpy as np"
   ]
  },
  {
   "cell_type": "code",
   "execution_count": 2,
   "metadata": {},
   "outputs": [],
   "source": [
    "df=pd.read_csv('Raw_First_Value.csv')\n",
    "\n",
    "#피쳐 변수 설정\n",
    "feature_names= ['obp', 'slg', 'ba', 'era','whip']\n",
    "\n",
    "#X변수 설정\n",
    "dfX0 = pd.DataFrame(df, columns=feature_names)\n",
    "#y변수 설정\n",
    "dfy = pd.DataFrame(df, columns=[\"pov\"] )\n",
    "\n"
   ]
  },
  {
   "cell_type": "code",
   "execution_count": 3,
   "metadata": {},
   "outputs": [
    {
     "data": {
      "text/html": [
       "<div>\n",
       "<style scoped>\n",
       "    .dataframe tbody tr th:only-of-type {\n",
       "        vertical-align: middle;\n",
       "    }\n",
       "\n",
       "    .dataframe tbody tr th {\n",
       "        vertical-align: top;\n",
       "    }\n",
       "\n",
       "    .dataframe thead th {\n",
       "        text-align: right;\n",
       "    }\n",
       "</style>\n",
       "<table border=\"1\" class=\"dataframe\">\n",
       "  <thead>\n",
       "    <tr style=\"text-align: right;\">\n",
       "      <th></th>\n",
       "      <th>team</th>\n",
       "      <th>year</th>\n",
       "      <th>month</th>\n",
       "      <th>pov</th>\n",
       "      <th>obp</th>\n",
       "      <th>slg</th>\n",
       "      <th>ba</th>\n",
       "      <th>era</th>\n",
       "      <th>whip</th>\n",
       "    </tr>\n",
       "  </thead>\n",
       "  <tbody>\n",
       "    <tr>\n",
       "      <th>529</th>\n",
       "      <td>10</td>\n",
       "      <td>2021</td>\n",
       "      <td>8</td>\n",
       "      <td>0.500</td>\n",
       "      <td>0.331</td>\n",
       "      <td>0.331</td>\n",
       "      <td>0.231</td>\n",
       "      <td>4.33</td>\n",
       "      <td>1.46</td>\n",
       "    </tr>\n",
       "    <tr>\n",
       "      <th>530</th>\n",
       "      <td>10</td>\n",
       "      <td>2021</td>\n",
       "      <td>9</td>\n",
       "      <td>0.381</td>\n",
       "      <td>0.361</td>\n",
       "      <td>0.373</td>\n",
       "      <td>0.263</td>\n",
       "      <td>4.92</td>\n",
       "      <td>1.38</td>\n",
       "    </tr>\n",
       "    <tr>\n",
       "      <th>531</th>\n",
       "      <td>10</td>\n",
       "      <td>2021</td>\n",
       "      <td>10</td>\n",
       "      <td>0.278</td>\n",
       "      <td>0.318</td>\n",
       "      <td>0.310</td>\n",
       "      <td>0.219</td>\n",
       "      <td>4.18</td>\n",
       "      <td>1.47</td>\n",
       "    </tr>\n",
       "    <tr>\n",
       "      <th>532</th>\n",
       "      <td>10</td>\n",
       "      <td>2022</td>\n",
       "      <td>4</td>\n",
       "      <td>0.360</td>\n",
       "      <td>0.309</td>\n",
       "      <td>0.309</td>\n",
       "      <td>0.225</td>\n",
       "      <td>4.00</td>\n",
       "      <td>1.40</td>\n",
       "    </tr>\n",
       "    <tr>\n",
       "      <th>533</th>\n",
       "      <td>10</td>\n",
       "      <td>2022</td>\n",
       "      <td>5</td>\n",
       "      <td>0.385</td>\n",
       "      <td>0.318</td>\n",
       "      <td>0.387</td>\n",
       "      <td>0.251</td>\n",
       "      <td>6.51</td>\n",
       "      <td>1.67</td>\n",
       "    </tr>\n",
       "  </tbody>\n",
       "</table>\n",
       "</div>"
      ],
      "text/plain": [
       "     team  year  month    pov    obp    slg     ba   era  whip\n",
       "529    10  2021      8  0.500  0.331  0.331  0.231  4.33  1.46\n",
       "530    10  2021      9  0.381  0.361  0.373  0.263  4.92  1.38\n",
       "531    10  2021     10  0.278  0.318  0.310  0.219  4.18  1.47\n",
       "532    10  2022      4  0.360  0.309  0.309  0.225  4.00  1.40\n",
       "533    10  2022      5  0.385  0.318  0.387  0.251  6.51  1.67"
      ]
     },
     "execution_count": 3,
     "metadata": {},
     "output_type": "execute_result"
    }
   ],
   "source": [
    "df.tail()"
   ]
  },
  {
   "cell_type": "code",
   "execution_count": 4,
   "metadata": {},
   "outputs": [
    {
     "data": {
      "text/plain": [
       "Index(['team', 'year', 'month', 'pov', 'obp', 'slg', 'ba', 'era', 'whip'], dtype='object')"
      ]
     },
     "execution_count": 4,
     "metadata": {},
     "output_type": "execute_result"
    }
   ],
   "source": [
    "df.columns"
   ]
  },
  {
   "cell_type": "code",
   "execution_count": 5,
   "metadata": {},
   "outputs": [
    {
     "name": "stdout",
     "output_type": "stream",
     "text": [
      "                                 OLS Regression Results                                \n",
      "=======================================================================================\n",
      "Dep. Variable:                    pov   R-squared (uncentered):                   0.947\n",
      "Model:                            OLS   Adj. R-squared (uncentered):              0.947\n",
      "Method:                 Least Squares   F-statistic:                              1898.\n",
      "Date:                Wed, 15 Jun 2022   Prob (F-statistic):                        0.00\n",
      "Time:                        18:46:58   Log-Likelihood:                          367.64\n",
      "No. Observations:                 534   AIC:                                     -725.3\n",
      "Df Residuals:                     529   BIC:                                     -703.9\n",
      "Df Model:                           5                                                  \n",
      "Covariance Type:            nonrobust                                                  \n",
      "==============================================================================\n",
      "                 coef    std err          t      P>|t|      [0.025      0.975]\n",
      "------------------------------------------------------------------------------\n",
      "obp            2.3687      0.306      7.748      0.000       1.768       2.969\n",
      "slg            1.2685      0.155      8.178      0.000       0.964       1.573\n",
      "ba            -1.5329      0.410     -3.737      0.000      -2.339      -0.727\n",
      "era           -0.0910      0.007    -12.196      0.000      -0.106      -0.076\n",
      "whip          -0.0010      0.039     -0.027      0.979      -0.078       0.076\n",
      "==============================================================================\n",
      "Omnibus:                       91.867   Durbin-Watson:                   1.934\n",
      "Prob(Omnibus):                  0.000   Jarque-Bera (JB):              986.841\n",
      "Skew:                          -0.346   Prob(JB):                    5.13e-215\n",
      "Kurtosis:                       9.624   Cond. No.                         467.\n",
      "==============================================================================\n",
      "\n",
      "Notes:\n",
      "[1] R² is computed without centering (uncentered) since the model does not contain a constant.\n",
      "[2] Standard Errors assume that the covariance matrix of the errors is correctly specified.\n"
     ]
    }
   ],
   "source": [
    "#회귀분석\n",
    "model_baseball = sm.OLS(dfy, dfX0)\n",
    "result_baseball_ols = model_baseball.fit()\n",
    "print(result_baseball_ols.summary())"
   ]
  },
  {
   "cell_type": "code",
   "execution_count": 6,
   "metadata": {},
   "outputs": [],
   "source": [
    "this_year_score=pd.DataFrame( pd.read_csv('2022yearcumul01.csv') )"
   ]
  },
  {
   "cell_type": "code",
   "execution_count": 7,
   "metadata": {},
   "outputs": [],
   "source": [
    "this_year_score = this_year_score.drop(['이름'], axis=1)"
   ]
  },
  {
   "cell_type": "code",
   "execution_count": 9,
   "metadata": {},
   "outputs": [
    {
     "name": "stdout",
     "output_type": "stream",
     "text": [
      "예측값:  0.567    실제값:  0.542\n",
      "9.0\n",
      "예측값:  0.553    실제값:  0.567\n",
      "4.0\n",
      "예측값:  0.539    실제값:  0.6\n",
      "5.0\n",
      "예측값:  0.544    실제값:  0.661\n",
      "6.0\n",
      "예측값:  0.468    실제값:  0.483\n",
      "2.0\n",
      "예측값:  0.513    실제값:  0.475\n",
      "1.0\n",
      "예측값:  0.487    실제값:  0.383\n",
      "7.0\n",
      "예측값:  0.472    실제값:  0.483\n",
      "3.0\n",
      "예측값:  0.346    실제값:  0.361\n",
      "10.0\n",
      "예측값:  0.448    실제값:  0.448\n",
      "8.0\n"
     ]
    }
   ],
   "source": [
    "pov22=[]\n",
    "pov22_pred=[]\n",
    "pov22_team=[]\n",
    "for idx, row in this_year_score.iterrows():\n",
    "    \n",
    "    a= result_baseball_ols.predict(     row[ ['OBP','SLG','BA','ERA','WHIP' ]]    )\n",
    "    print('예측값: ', round( a[0],3), end='    ')\n",
    "    pov22_pred.append(round( a[0],3))\n",
    "    b= this_year_score['POV'][idx]\n",
    "    print('실제값: ',b)\n",
    "    pov22.append(b)\n",
    "    c=row['team']\n",
    "    print(c)\n",
    "    pov22_team.append(c)"
   ]
  },
  {
   "cell_type": "code",
   "execution_count": 10,
   "metadata": {},
   "outputs": [
    {
     "data": {
      "text/plain": [
       "([0.542, 0.567, 0.6, 0.661, 0.483, 0.475, 0.383, 0.483, 0.361, 0.448],\n",
       " [0.567, 0.553, 0.539, 0.544, 0.468, 0.513, 0.487, 0.472, 0.346, 0.448])"
      ]
     },
     "execution_count": 10,
     "metadata": {},
     "output_type": "execute_result"
    }
   ],
   "source": [
    "pov22,pov22_pred"
   ]
  },
  {
   "cell_type": "code",
   "execution_count": 11,
   "metadata": {},
   "outputs": [],
   "source": [
    "from matplotlib import pyplot as plt\n",
    "import seaborn as sns"
   ]
  },
  {
   "cell_type": "code",
   "execution_count": 12,
   "metadata": {},
   "outputs": [],
   "source": [
    "%matplotlib inline\n",
    "from matplotlib import rc \n",
    "rc('font', family='Malgun Gothic')"
   ]
  },
  {
   "cell_type": "code",
   "execution_count": 13,
   "metadata": {},
   "outputs": [],
   "source": [
    "from sklearn.model_selection import train_test_split\n",
    "X=dfX0\n",
    "y=dfy\n",
    "\n",
    "X_train, X_test, y_train, y_test = train_test_split(X,y, test_size=0.2, random_state=13)"
   ]
  },
  {
   "cell_type": "code",
   "execution_count": 21,
   "metadata": {},
   "outputs": [],
   "source": [
    "model_baseball_no_cost = sm.OLS(y_train, X_train)\n",
    "result_no_cost = model_baseball_no_cost.fit()\n",
    "reg=result_no_cost"
   ]
  },
  {
   "cell_type": "code",
   "execution_count": 22,
   "metadata": {},
   "outputs": [
    {
     "name": "stdout",
     "output_type": "stream",
     "text": [
      "RMSE of Train Data:  0.12342790665883001\n",
      "RMSE of Train Data:  0.11472489524327088\n"
     ]
    }
   ],
   "source": [
    "from sklearn.metrics import mean_squared_error\n",
    "\n",
    "pred_tr = reg.predict(X_train)\n",
    "pred_test=reg.predict(X_test)\n",
    "\n",
    "rmse_tr = (np.sqrt(mean_squared_error(y_train, pred_tr)))\n",
    "rmse_test = (np.sqrt(mean_squared_error(y_test, pred_test)))\n",
    "\n",
    "print('RMSE of Train Data: ', rmse_tr)\n",
    "print('RMSE of Train Data: ', rmse_test)"
   ]
  },
  {
   "cell_type": "code",
   "execution_count": 23,
   "metadata": {},
   "outputs": [
    {
     "data": {
      "text/plain": [
       "[<matplotlib.lines.Line2D at 0x20e596e64c0>]"
      ]
     },
     "execution_count": 23,
     "metadata": {},
     "output_type": "execute_result"
    },
    {
     "data": {
      "image/png": "[encoded data removed]",
      "text/plain": [
       "<Figure size 432x288 with 1 Axes>"
      ]
     },
     "metadata": {
      "needs_background": "light"
     },
     "output_type": "display_data"
    }
   ],
   "source": [
    "plt.scatter(y_test, pred_test )\n",
    "plt.xlabel(\"Actual\")\n",
    "plt.ylabel(\"Predict\")\n",
    "plt.plot([0, 1], [0, 1], 'r')\n"
   ]
  },
  {
   "cell_type": "markdown",
   "metadata": {},
   "source": [
    "위의 모델은 실제값 0부근에서 유독 높은 예측을 하는 경향이 있다.... 아무래도 게임 경기가 매우 적은 달 때문인듯하다\n"
   ]
  },
  {
   "cell_type": "code",
   "execution_count": 188,
   "metadata": {},
   "outputs": [
    {
     "name": "stdout",
     "output_type": "stream",
     "text": [
      "RMSE of Train Data:  0.12254116302401723\n",
      "RMSE of Train Data:  0.11931038371115013\n"
     ]
    }
   ],
   "source": [
    "from sklearn.model_selection import train_test_split\n",
    "\n",
    "rs=RobustScaler()\n",
    "\n",
    "dfX_rs= rs.fit_transform(dfX)\n",
    "X=dfX_rs\n",
    "y=dfy\n",
    "\n",
    "X_train, X_test, y_train, y_test = train_test_split(X,y, test_size=0.3, random_state=13)\n",
    "\n",
    "reg=LinearRegression()\n",
    "reg.fit(X_train, y_train)\n",
    "rs_reg_model = reg.fit(X_train, y_train)\n",
    "pred_tr = reg.predict(X_train)\n",
    "pred_test=reg.predict(X_test)\n",
    "\n",
    "rmse_tr = (np.sqrt(mean_squared_error(y_train, pred_tr)))\n",
    "rmse_test = (np.sqrt(mean_squared_error(y_test, pred_test)))\n",
    "\n",
    "print('RMSE of Train Data: ', rmse_tr)\n",
    "print('RMSE of Train Data: ', rmse_test)"
   ]
  }
 ],
 "metadata": {
  "kernelspec": {
   "display_name": "Python 3.8.13 ('ds_study')",
   "language": "python",
   "name": "python3"
  },
  "language_info": {
   "codemirror_mode": {
    "name": "ipython",
    "version": 3
   },
   "file_extension": ".py",
   "mimetype": "text/x-python",
   "name": "python",
   "nbconvert_exporter": "python",
   "pygments_lexer": "ipython3",
   "version": "3.8.13"
  },
  "orig_nbformat": 4,
  "vscode": {
   "interpreter": {
    "hash": "ef3e3e7272202be05dbefff216556556e590f117f2ce0ae9200cf985588ca774"
   }
  }
 },
 "nbformat": 4,
 "nbformat_minor": 2
}

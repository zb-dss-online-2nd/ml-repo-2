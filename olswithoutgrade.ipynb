{
 "cells": [
  {
   "cell_type": "code",
   "execution_count": 1,
   "metadata": {},
   "outputs": [],
   "source": [
    "import pandas as pd \n",
    "import statsmodels.api as sm\n",
    "import numpy as np"
   ]
  },
  {
   "cell_type": "code",
   "execution_count": 2,
   "metadata": {},
   "outputs": [],
   "source": [
    "df=pd.read_csv('Raw_First_Value.csv')\n",
    "\n",
    "#피쳐 변수 설정\n",
    "feature_names= ['obp', 'slg', 'ba', 'era','whip']\n",
    "\n",
    "#X변수 설정\n",
    "dfX0 = pd.DataFrame(df, columns=feature_names)\n",
    "#y변수 설정\n",
    "dfy = pd.DataFrame(df, columns=[\"pov\"] )\n",
    "#상수항 설정\n",
    "dfX = sm.add_constant(dfX0)\n"
   ]
  },
  {
   "cell_type": "code",
   "execution_count": 3,
   "metadata": {},
   "outputs": [
    {
     "data": {
      "text/html": [
       "<div>\n",
       "<style scoped>\n",
       "    .dataframe tbody tr th:only-of-type {\n",
       "        vertical-align: middle;\n",
       "    }\n",
       "\n",
       "    .dataframe tbody tr th {\n",
       "        vertical-align: top;\n",
       "    }\n",
       "\n",
       "    .dataframe thead th {\n",
       "        text-align: right;\n",
       "    }\n",
       "</style>\n",
       "<table border=\"1\" class=\"dataframe\">\n",
       "  <thead>\n",
       "    <tr style=\"text-align: right;\">\n",
       "      <th></th>\n",
       "      <th>team</th>\n",
       "      <th>year</th>\n",
       "      <th>month</th>\n",
       "      <th>pov</th>\n",
       "      <th>obp</th>\n",
       "      <th>slg</th>\n",
       "      <th>ba</th>\n",
       "      <th>era</th>\n",
       "      <th>whip</th>\n",
       "    </tr>\n",
       "  </thead>\n",
       "  <tbody>\n",
       "    <tr>\n",
       "      <th>529</th>\n",
       "      <td>10</td>\n",
       "      <td>2021</td>\n",
       "      <td>8</td>\n",
       "      <td>0.500</td>\n",
       "      <td>0.331</td>\n",
       "      <td>0.331</td>\n",
       "      <td>0.231</td>\n",
       "      <td>4.33</td>\n",
       "      <td>1.46</td>\n",
       "    </tr>\n",
       "    <tr>\n",
       "      <th>530</th>\n",
       "      <td>10</td>\n",
       "      <td>2021</td>\n",
       "      <td>9</td>\n",
       "      <td>0.381</td>\n",
       "      <td>0.361</td>\n",
       "      <td>0.373</td>\n",
       "      <td>0.263</td>\n",
       "      <td>4.92</td>\n",
       "      <td>1.38</td>\n",
       "    </tr>\n",
       "    <tr>\n",
       "      <th>531</th>\n",
       "      <td>10</td>\n",
       "      <td>2021</td>\n",
       "      <td>10</td>\n",
       "      <td>0.278</td>\n",
       "      <td>0.318</td>\n",
       "      <td>0.310</td>\n",
       "      <td>0.219</td>\n",
       "      <td>4.18</td>\n",
       "      <td>1.47</td>\n",
       "    </tr>\n",
       "    <tr>\n",
       "      <th>532</th>\n",
       "      <td>10</td>\n",
       "      <td>2022</td>\n",
       "      <td>4</td>\n",
       "      <td>0.360</td>\n",
       "      <td>0.309</td>\n",
       "      <td>0.309</td>\n",
       "      <td>0.225</td>\n",
       "      <td>4.00</td>\n",
       "      <td>1.40</td>\n",
       "    </tr>\n",
       "    <tr>\n",
       "      <th>533</th>\n",
       "      <td>10</td>\n",
       "      <td>2022</td>\n",
       "      <td>5</td>\n",
       "      <td>0.385</td>\n",
       "      <td>0.318</td>\n",
       "      <td>0.387</td>\n",
       "      <td>0.251</td>\n",
       "      <td>6.51</td>\n",
       "      <td>1.67</td>\n",
       "    </tr>\n",
       "  </tbody>\n",
       "</table>\n",
       "</div>"
      ],
      "text/plain": [
       "     team  year  month    pov    obp    slg     ba   era  whip\n",
       "529    10  2021      8  0.500  0.331  0.331  0.231  4.33  1.46\n",
       "530    10  2021      9  0.381  0.361  0.373  0.263  4.92  1.38\n",
       "531    10  2021     10  0.278  0.318  0.310  0.219  4.18  1.47\n",
       "532    10  2022      4  0.360  0.309  0.309  0.225  4.00  1.40\n",
       "533    10  2022      5  0.385  0.318  0.387  0.251  6.51  1.67"
      ]
     },
     "execution_count": 3,
     "metadata": {},
     "output_type": "execute_result"
    }
   ],
   "source": [
    "df.tail()"
   ]
  },
  {
   "cell_type": "code",
   "execution_count": 4,
   "metadata": {},
   "outputs": [
    {
     "data": {
      "text/plain": [
       "Index(['team', 'year', 'month', 'pov', 'obp', 'slg', 'ba', 'era', 'whip'], dtype='object')"
      ]
     },
     "execution_count": 4,
     "metadata": {},
     "output_type": "execute_result"
    }
   ],
   "source": [
    "df.columns"
   ]
  },
  {
   "cell_type": "code",
   "execution_count": 6,
   "metadata": {},
   "outputs": [
    {
     "name": "stdout",
     "output_type": "stream",
     "text": [
      "                            OLS Regression Results                            \n",
      "==============================================================================\n",
      "Dep. Variable:                    pov   R-squared:                       0.506\n",
      "Model:                            OLS   Adj. R-squared:                  0.501\n",
      "Method:                 Least Squares   F-statistic:                     108.0\n",
      "Date:                Wed, 15 Jun 2022   Prob (F-statistic):           2.05e-78\n",
      "Time:                        14:24:21   Log-Likelihood:                 370.04\n",
      "No. Observations:                 534   AIC:                            -728.1\n",
      "Df Residuals:                     528   BIC:                            -702.4\n",
      "Df Model:                           5                                         \n",
      "Covariance Type:            nonrobust                                         \n",
      "==============================================================================\n",
      "                 coef    std err          t      P>|t|      [0.025      0.975]\n",
      "------------------------------------------------------------------------------\n",
      "const          0.1741      0.080      2.187      0.029       0.018       0.331\n",
      "obp            1.9421      0.362      5.368      0.000       1.231       2.653\n",
      "slg            1.3090      0.156      8.410      0.000       1.003       1.615\n",
      "ba            -1.4759      0.410     -3.603      0.000      -2.281      -0.671\n",
      "era           -0.0851      0.008    -10.769      0.000      -0.101      -0.070\n",
      "whip          -0.0590      0.047     -1.246      0.213      -0.152       0.034\n",
      "==============================================================================\n",
      "Omnibus:                       96.939   Durbin-Watson:                   1.914\n",
      "Prob(Omnibus):                  0.000   Jarque-Bera (JB):              989.572\n",
      "Skew:                          -0.429   Prob(JB):                    1.31e-215\n",
      "Kurtosis:                       9.614   Cond. No.                         494.\n",
      "==============================================================================\n",
      "\n",
      "Notes:\n",
      "[1] Standard Errors assume that the covariance matrix of the errors is correctly specified.\n"
     ]
    }
   ],
   "source": [
    "#회귀분석\n",
    "model_baseball = sm.OLS(dfy, dfX)\n",
    "result_baseball_ols = model_baseball.fit()\n",
    "print(result_baseball_ols.summary())"
   ]
  },
  {
   "cell_type": "code",
   "execution_count": 7,
   "metadata": {},
   "outputs": [],
   "source": [
    "this_year_score=pd.DataFrame( pd.read_csv('2022yearcumul01.csv') )"
   ]
  },
  {
   "cell_type": "code",
   "execution_count": 8,
   "metadata": {},
   "outputs": [
    {
     "data": {
      "text/html": [
       "<div>\n",
       "<style scoped>\n",
       "    .dataframe tbody tr th:only-of-type {\n",
       "        vertical-align: middle;\n",
       "    }\n",
       "\n",
       "    .dataframe tbody tr th {\n",
       "        vertical-align: top;\n",
       "    }\n",
       "\n",
       "    .dataframe thead th {\n",
       "        text-align: right;\n",
       "    }\n",
       "</style>\n",
       "<table border=\"1\" class=\"dataframe\">\n",
       "  <thead>\n",
       "    <tr style=\"text-align: right;\">\n",
       "      <th></th>\n",
       "      <th>team</th>\n",
       "      <th>OBP</th>\n",
       "      <th>SLG</th>\n",
       "      <th>BA</th>\n",
       "      <th>ERA</th>\n",
       "      <th>WHIP</th>\n",
       "      <th>POV</th>\n",
       "      <th>이름</th>\n",
       "    </tr>\n",
       "  </thead>\n",
       "  <tbody>\n",
       "    <tr>\n",
       "      <th>0</th>\n",
       "      <td>9</td>\n",
       "      <td>0.350</td>\n",
       "      <td>0.409</td>\n",
       "      <td>0.269</td>\n",
       "      <td>4.03</td>\n",
       "      <td>1.34</td>\n",
       "      <td>0.542</td>\n",
       "      <td>기아</td>\n",
       "    </tr>\n",
       "    <tr>\n",
       "      <th>1</th>\n",
       "      <td>4</td>\n",
       "      <td>0.340</td>\n",
       "      <td>0.392</td>\n",
       "      <td>0.264</td>\n",
       "      <td>3.78</td>\n",
       "      <td>1.36</td>\n",
       "      <td>0.567</td>\n",
       "      <td>lg</td>\n",
       "    </tr>\n",
       "    <tr>\n",
       "      <th>2</th>\n",
       "      <td>5</td>\n",
       "      <td>0.326</td>\n",
       "      <td>0.365</td>\n",
       "      <td>0.246</td>\n",
       "      <td>3.49</td>\n",
       "      <td>1.26</td>\n",
       "      <td>0.600</td>\n",
       "      <td>키움</td>\n",
       "    </tr>\n",
       "    <tr>\n",
       "      <th>3</th>\n",
       "      <td>6</td>\n",
       "      <td>0.330</td>\n",
       "      <td>0.370</td>\n",
       "      <td>0.249</td>\n",
       "      <td>3.56</td>\n",
       "      <td>1.21</td>\n",
       "      <td>0.661</td>\n",
       "      <td>ssg</td>\n",
       "    </tr>\n",
       "    <tr>\n",
       "      <th>4</th>\n",
       "      <td>2</td>\n",
       "      <td>0.331</td>\n",
       "      <td>0.357</td>\n",
       "      <td>0.256</td>\n",
       "      <td>4.12</td>\n",
       "      <td>1.42</td>\n",
       "      <td>0.483</td>\n",
       "      <td>두산</td>\n",
       "    </tr>\n",
       "    <tr>\n",
       "      <th>5</th>\n",
       "      <td>1</td>\n",
       "      <td>0.326</td>\n",
       "      <td>0.352</td>\n",
       "      <td>0.247</td>\n",
       "      <td>3.58</td>\n",
       "      <td>1.24</td>\n",
       "      <td>0.475</td>\n",
       "      <td>kt</td>\n",
       "    </tr>\n",
       "    <tr>\n",
       "      <th>6</th>\n",
       "      <td>7</td>\n",
       "      <td>0.320</td>\n",
       "      <td>0.363</td>\n",
       "      <td>0.248</td>\n",
       "      <td>3.85</td>\n",
       "      <td>1.36</td>\n",
       "      <td>0.383</td>\n",
       "      <td>nc</td>\n",
       "    </tr>\n",
       "    <tr>\n",
       "      <th>7</th>\n",
       "      <td>3</td>\n",
       "      <td>0.321</td>\n",
       "      <td>0.365</td>\n",
       "      <td>0.260</td>\n",
       "      <td>3.86</td>\n",
       "      <td>1.39</td>\n",
       "      <td>0.483</td>\n",
       "      <td>삼성</td>\n",
       "    </tr>\n",
       "    <tr>\n",
       "      <th>8</th>\n",
       "      <td>10</td>\n",
       "      <td>0.317</td>\n",
       "      <td>0.355</td>\n",
       "      <td>0.242</td>\n",
       "      <td>5.30</td>\n",
       "      <td>1.53</td>\n",
       "      <td>0.361</td>\n",
       "      <td>한화</td>\n",
       "    </tr>\n",
       "    <tr>\n",
       "      <th>9</th>\n",
       "      <td>8</td>\n",
       "      <td>0.313</td>\n",
       "      <td>0.366</td>\n",
       "      <td>0.254</td>\n",
       "      <td>4.03</td>\n",
       "      <td>1.36</td>\n",
       "      <td>0.448</td>\n",
       "      <td>롯데</td>\n",
       "    </tr>\n",
       "  </tbody>\n",
       "</table>\n",
       "</div>"
      ],
      "text/plain": [
       "   team    OBP    SLG     BA   ERA  WHIP    POV   이름\n",
       "0     9  0.350  0.409  0.269  4.03  1.34  0.542   기아\n",
       "1     4  0.340  0.392  0.264  3.78  1.36  0.567   lg\n",
       "2     5  0.326  0.365  0.246  3.49  1.26  0.600   키움\n",
       "3     6  0.330  0.370  0.249  3.56  1.21  0.661  ssg\n",
       "4     2  0.331  0.357  0.256  4.12  1.42  0.483   두산\n",
       "5     1  0.326  0.352  0.247  3.58  1.24  0.475   kt\n",
       "6     7  0.320  0.363  0.248  3.85  1.36  0.383   nc\n",
       "7     3  0.321  0.365  0.260  3.86  1.39  0.483   삼성\n",
       "8    10  0.317  0.355  0.242  5.30  1.53  0.361   한화\n",
       "9     8  0.313  0.366  0.254  4.03  1.36  0.448   롯데"
      ]
     },
     "execution_count": 8,
     "metadata": {},
     "output_type": "execute_result"
    }
   ],
   "source": [
    "this_year_score"
   ]
  },
  {
   "cell_type": "code",
   "execution_count": 9,
   "metadata": {},
   "outputs": [],
   "source": [
    "this_year_score = this_year_score.drop(['이름'], axis=1)"
   ]
  },
  {
   "cell_type": "code",
   "execution_count": 189,
   "metadata": {},
   "outputs": [
    {
     "name": "stdout",
     "output_type": "stream",
     "text": [
      "예측값:  0.57    실제값:  0.542\n",
      "9.0\n",
      "예측값:  0.556    실제값:  0.567\n",
      "4.0\n",
      "예측값:  0.55    실제값:  0.6\n",
      "5.0\n",
      "예측값:  0.557    실제값:  0.661\n",
      "6.0\n",
      "예측값:  0.472    실제값:  0.483\n",
      "2.0\n",
      "예측값:  0.526    실제값:  0.475\n",
      "1.0\n",
      "예측값:  0.497    실제값:  0.383\n",
      "7.0\n",
      "예측값:  0.481    실제값:  0.483\n",
      "3.0\n",
      "예측값:  0.356    실제값:  0.361\n",
      "10.0\n",
      "예측값:  0.463    실제값:  0.448\n",
      "8.0\n"
     ]
    }
   ],
   "source": [
    "pov22=[]\n",
    "pov22_pred=[]\n",
    "pov22_team=[]\n",
    "for idx, row in this_year_score.iterrows():\n",
    "    row['const'] =1\n",
    "    \n",
    "    a= result_baseball_ols.predict(     row[ ['const', 'OBP','SLG','BA','ERA','WHIP' ]]    )\n",
    "    print('예측값: ', round( a[0],3), end='    ')\n",
    "    pov22_pred.append(round( a[0],3))\n",
    "    b= this_year_score['POV'][idx]\n",
    "    print('실제값: ',b)\n",
    "    pov22.append(b)\n",
    "    c=row['team']\n",
    "    print(c)\n",
    "    pov22_team.append(c)"
   ]
  },
  {
   "cell_type": "code",
   "execution_count": 12,
   "metadata": {},
   "outputs": [
    {
     "data": {
      "text/plain": [
       "([0.542, 0.567, 0.6, 0.661, 0.483, 0.475, 0.383, 0.483, 0.361, 0.448],\n",
       " [0.57, 0.556, 0.55, 0.557, 0.472, 0.526, 0.497, 0.481, 0.356, 0.463])"
      ]
     },
     "execution_count": 12,
     "metadata": {},
     "output_type": "execute_result"
    }
   ],
   "source": [
    "pov22,pov22_pred"
   ]
  },
  {
   "cell_type": "code",
   "execution_count": 13,
   "metadata": {},
   "outputs": [],
   "source": [
    "from matplotlib import pyplot as plt\n",
    "import seaborn as sns"
   ]
  },
  {
   "cell_type": "code",
   "execution_count": 14,
   "metadata": {},
   "outputs": [],
   "source": [
    "%matplotlib inline\n",
    "from matplotlib import rc \n",
    "rc('font', family='Malgun Gothic')"
   ]
  },
  {
   "cell_type": "code",
   "execution_count": 15,
   "metadata": {},
   "outputs": [
    {
     "data": {
      "text/plain": [
       "[0.542, 0.567, 0.6, 0.661, 0.483, 0.475, 0.383, 0.483, 0.361, 0.448]"
      ]
     },
     "execution_count": 15,
     "metadata": {},
     "output_type": "execute_result"
    }
   ],
   "source": [
    "pov22"
   ]
  },
  {
   "cell_type": "code",
   "execution_count": 16,
   "metadata": {},
   "outputs": [
    {
     "data": {
      "image/png": "[encoded data removed]",
      "text/plain": [
       "<Figure size 432x288 with 1 Axes>"
      ]
     },
     "metadata": {
      "needs_background": "light"
     },
     "output_type": "display_data"
    }
   ],
   "source": [
    "scatter =plt.scatter(pov22, pov22_pred ) \n",
    "plt.xlabel('실제값',labelpad=10)\n",
    "plt.ylabel('예측값', labelpad=10)\n",
    "plt.plot([0.35, 0.7], [0.35, 0.7],color=\"green\", lw='1')\n",
    "for label, x, y in zip(this_year_score['team'], pov22, pov22_pred):\n",
    "    plt.annotate(label, xy=(x, y), xytext=(-20, 20) , textcoords='offset points', ha='right', va='bottom',\n",
    "        bbox=dict(boxstyle='round,pad=0.5', fc='yellow', alpha=0.5),\n",
    "        arrowprops=dict(arrowstyle = '->', connectionstyle='arc3,rad=0')) \n",
    "\n",
    "plt.show()"
   ]
  },
  {
   "cell_type": "code",
   "execution_count": 17,
   "metadata": {},
   "outputs": [
    {
     "data": {
      "text/plain": [
       "<AxesSubplot:>"
      ]
     },
     "execution_count": 17,
     "metadata": {},
     "output_type": "execute_result"
    },
    {
     "data": {
      "image/png": "[encoded data removed]",
      "text/plain": [
       "<Figure size 864x432 with 1 Axes>"
      ]
     },
     "metadata": {
      "needs_background": "light"
     },
     "output_type": "display_data"
    }
   ],
   "source": [
    "plt.figure(figsize=(12,6))\n",
    "sns.boxplot(data=df[feature_names] )"
   ]
  },
  {
   "cell_type": "code",
   "execution_count": 19,
   "metadata": {},
   "outputs": [],
   "source": [
    "from sklearn.preprocessing import MinMaxScaler, StandardScaler, RobustScaler\n",
    "\n",
    "mm=MinMaxScaler()\n",
    "ss=StandardScaler()\n",
    "rs=RobustScaler()\n",
    "from sklearn.preprocessing import Normalizer\n",
    "\n",
    "nor = Normalizer()\n",
    "dfy_nor = nor.fit_transform(dfy)\n",
    "dfX_nor = nor.fit_transform(dfX)"
   ]
  },
  {
   "cell_type": "code",
   "execution_count": 148,
   "metadata": {},
   "outputs": [],
   "source": [
    "from sklearn.model_selection import train_test_split\n",
    "X=dfX_nor\n",
    "y=dfy\n",
    "\n",
    "X_train, X_test, y_train, y_test = train_test_split(X,y, test_size=0.2, random_state=13)"
   ]
  },
  {
   "cell_type": "code",
   "execution_count": 149,
   "metadata": {},
   "outputs": [
    {
     "data": {
      "text/plain": [
       "LinearRegression()"
      ]
     },
     "execution_count": 149,
     "metadata": {},
     "output_type": "execute_result"
    }
   ],
   "source": [
    "from sklearn.linear_model import LinearRegression\n",
    "\n",
    "reg=LinearRegression()\n",
    "reg.fit(X_train, y_train)\n"
   ]
  },
  {
   "cell_type": "code",
   "execution_count": 150,
   "metadata": {},
   "outputs": [
    {
     "name": "stdout",
     "output_type": "stream",
     "text": [
      "RMSE of Train Data:  0.12282031161685443\n",
      "RMSE of Train Data:  0.11445463408840069\n"
     ]
    }
   ],
   "source": [
    "from sklearn.metrics import mean_squared_error\n",
    "\n",
    "pred_tr = reg.predict(X_train)\n",
    "pred_test=reg.predict(X_test)\n",
    "\n",
    "rmse_tr = (np.sqrt(mean_squared_error(y_train, pred_tr)))\n",
    "rmse_test = (np.sqrt(mean_squared_error(y_test, pred_test)))\n",
    "\n",
    "print('RMSE of Train Data: ', rmse_tr)\n",
    "print('RMSE of Train Data: ', rmse_test)"
   ]
  },
  {
   "cell_type": "code",
   "execution_count": 151,
   "metadata": {},
   "outputs": [
    {
     "data": {
      "text/plain": [
       "[<matplotlib.lines.Line2D at 0x15da823e160>]"
      ]
     },
     "execution_count": 151,
     "metadata": {},
     "output_type": "execute_result"
    },
    {
     "data": {
      "image/png": "[encoded data removed]",
      "text/plain": [
       "<Figure size 432x288 with 1 Axes>"
      ]
     },
     "metadata": {
      "needs_background": "light"
     },
     "output_type": "display_data"
    }
   ],
   "source": [
    "plt.scatter(y_test, pred_test )\n",
    "plt.xlabel(\"Actual\")\n",
    "plt.ylabel(\"Predict\")\n",
    "plt.plot([0, 1], [0, 1], 'r')\n"
   ]
  },
  {
   "cell_type": "markdown",
   "metadata": {},
   "source": [
    "위의 모델은 실제값 0부근에서 유독 높은 예측을 하는 경향이 있다.... 아무래도 게임 경기가 매우 적은 달 때문인듯하다\n"
   ]
  },
  {
   "cell_type": "code",
   "execution_count": 188,
   "metadata": {},
   "outputs": [
    {
     "name": "stdout",
     "output_type": "stream",
     "text": [
      "RMSE of Train Data:  0.12254116302401723\n",
      "RMSE of Train Data:  0.11931038371115013\n"
     ]
    }
   ],
   "source": [
    "from sklearn.model_selection import train_test_split\n",
    "\n",
    "rs=RobustScaler()\n",
    "\n",
    "dfX_rs= rs.fit_transform(dfX)\n",
    "X=dfX_rs\n",
    "y=dfy\n",
    "\n",
    "X_train, X_test, y_train, y_test = train_test_split(X,y, test_size=0.3, random_state=13)\n",
    "\n",
    "reg=LinearRegression()\n",
    "reg.fit(X_train, y_train)\n",
    "rs_reg_model = reg.fit(X_train, y_train)\n",
    "pred_tr = reg.predict(X_train)\n",
    "pred_test=reg.predict(X_test)\n",
    "\n",
    "rmse_tr = (np.sqrt(mean_squared_error(y_train, pred_tr)))\n",
    "rmse_test = (np.sqrt(mean_squared_error(y_test, pred_test)))\n",
    "\n",
    "print('RMSE of Train Data: ', rmse_tr)\n",
    "print('RMSE of Train Data: ', rmse_test)"
   ]
  },
  {
   "cell_type": "code",
   "execution_count": 153,
   "metadata": {},
   "outputs": [
    {
     "data": {
      "text/plain": [
       "[<matplotlib.lines.Line2D at 0x15da8298790>]"
      ]
     },
     "execution_count": 153,
     "metadata": {},
     "output_type": "execute_result"
    },
    {
     "data": {
      "image/png": "[encoded data removed]",
      "text/plain": [
       "<Figure size 432x288 with 1 Axes>"
      ]
     },
     "metadata": {
      "needs_background": "light"
     },
     "output_type": "display_data"
    }
   ],
   "source": [
    "plt.scatter(y_test, pred_test )\n",
    "plt.xlabel(\"Actual\")\n",
    "plt.ylabel(\"Predict\")\n",
    "plt.plot([0, 1], [0, 1], 'r')"
   ]
  }
 ],
 "metadata": {
  "kernelspec": {
   "display_name": "Python 3.8.13 ('ds_study')",
   "language": "python",
   "name": "python3"
  },
  "language_info": {
   "codemirror_mode": {
    "name": "ipython",
    "version": 3
   },
   "file_extension": ".py",
   "mimetype": "text/x-python",
   "name": "python",
   "nbconvert_exporter": "python",
   "pygments_lexer": "ipython3",
   "version": "3.8.13"
  },
  "orig_nbformat": 4,
  "vscode": {
   "interpreter": {
    "hash": "ef3e3e7272202be05dbefff216556556e590f117f2ce0ae9200cf985588ca774"
   }
  }
 },
 "nbformat": 4,
 "nbformat_minor": 2
}

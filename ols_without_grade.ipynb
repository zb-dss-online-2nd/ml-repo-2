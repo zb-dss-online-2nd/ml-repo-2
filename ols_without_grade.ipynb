{
 "cells": [
  {
   "cell_type": "code",
   "execution_count": 1,
   "metadata": {},
   "outputs": [],
   "source": [
    "import pandas as pd \n",
    "import statsmodels.api as sm\n",
    "import numpy as np"
   ]
  },
  {
   "cell_type": "code",
   "execution_count": 2,
   "metadata": {},
   "outputs": [],
   "source": [
    "df=pd.read_csv('./data/Raw_baseball.csv')"
   ]
  },
  {
   "cell_type": "code",
   "execution_count": 3,
   "metadata": {},
   "outputs": [
    {
     "data": {
      "text/html": [
       "<div>\n",
       "<style scoped>\n",
       "    .dataframe tbody tr th:only-of-type {\n",
       "        vertical-align: middle;\n",
       "    }\n",
       "\n",
       "    .dataframe tbody tr th {\n",
       "        vertical-align: top;\n",
       "    }\n",
       "\n",
       "    .dataframe thead th {\n",
       "        text-align: right;\n",
       "    }\n",
       "</style>\n",
       "<table border=\"1\" class=\"dataframe\">\n",
       "  <thead>\n",
       "    <tr style=\"text-align: right;\">\n",
       "      <th></th>\n",
       "      <th>team</th>\n",
       "      <th>year</th>\n",
       "      <th>month</th>\n",
       "      <th>pov</th>\n",
       "      <th>obp</th>\n",
       "      <th>slg</th>\n",
       "      <th>ba</th>\n",
       "      <th>era</th>\n",
       "      <th>whip</th>\n",
       "    </tr>\n",
       "  </thead>\n",
       "  <tbody>\n",
       "    <tr>\n",
       "      <th>529</th>\n",
       "      <td>10</td>\n",
       "      <td>2021</td>\n",
       "      <td>8</td>\n",
       "      <td>0.500</td>\n",
       "      <td>0.331</td>\n",
       "      <td>0.331</td>\n",
       "      <td>0.231</td>\n",
       "      <td>4.33</td>\n",
       "      <td>1.46</td>\n",
       "    </tr>\n",
       "    <tr>\n",
       "      <th>530</th>\n",
       "      <td>10</td>\n",
       "      <td>2021</td>\n",
       "      <td>9</td>\n",
       "      <td>0.381</td>\n",
       "      <td>0.361</td>\n",
       "      <td>0.373</td>\n",
       "      <td>0.263</td>\n",
       "      <td>4.92</td>\n",
       "      <td>1.38</td>\n",
       "    </tr>\n",
       "    <tr>\n",
       "      <th>531</th>\n",
       "      <td>10</td>\n",
       "      <td>2021</td>\n",
       "      <td>10</td>\n",
       "      <td>0.278</td>\n",
       "      <td>0.318</td>\n",
       "      <td>0.310</td>\n",
       "      <td>0.219</td>\n",
       "      <td>4.18</td>\n",
       "      <td>1.47</td>\n",
       "    </tr>\n",
       "    <tr>\n",
       "      <th>532</th>\n",
       "      <td>10</td>\n",
       "      <td>2022</td>\n",
       "      <td>4</td>\n",
       "      <td>0.360</td>\n",
       "      <td>0.309</td>\n",
       "      <td>0.309</td>\n",
       "      <td>0.225</td>\n",
       "      <td>4.00</td>\n",
       "      <td>1.40</td>\n",
       "    </tr>\n",
       "    <tr>\n",
       "      <th>533</th>\n",
       "      <td>10</td>\n",
       "      <td>2022</td>\n",
       "      <td>5</td>\n",
       "      <td>0.385</td>\n",
       "      <td>0.318</td>\n",
       "      <td>0.387</td>\n",
       "      <td>0.251</td>\n",
       "      <td>6.51</td>\n",
       "      <td>1.67</td>\n",
       "    </tr>\n",
       "  </tbody>\n",
       "</table>\n",
       "</div>"
      ],
      "text/plain": [
       "     team  year  month    pov    obp    slg     ba   era  whip\n",
       "529    10  2021      8  0.500  0.331  0.331  0.231  4.33  1.46\n",
       "530    10  2021      9  0.381  0.361  0.373  0.263  4.92  1.38\n",
       "531    10  2021     10  0.278  0.318  0.310  0.219  4.18  1.47\n",
       "532    10  2022      4  0.360  0.309  0.309  0.225  4.00  1.40\n",
       "533    10  2022      5  0.385  0.318  0.387  0.251  6.51  1.67"
      ]
     },
     "execution_count": 3,
     "metadata": {},
     "output_type": "execute_result"
    }
   ],
   "source": [
    "df.tail()"
   ]
  },
  {
   "cell_type": "code",
   "execution_count": 4,
   "metadata": {},
   "outputs": [
    {
     "data": {
      "text/plain": [
       "Index(['team', 'year', 'month', 'pov', 'obp', 'slg', 'ba', 'era', 'whip'], dtype='object')"
      ]
     },
     "execution_count": 4,
     "metadata": {},
     "output_type": "execute_result"
    }
   ],
   "source": [
    "df.columns"
   ]
  },
  {
   "cell_type": "code",
   "execution_count": 53,
   "metadata": {},
   "outputs": [],
   "source": [
    "#피쳐 변수 설정\n",
    "feature_names= ['obp', 'slg', 'ba', 'era','whip']\n",
    "\n",
    "#X변수 설정\n",
    "dfX0 = pd.DataFrame(df, columns=feature_names)\n",
    "#y변수 설정\n",
    "dfy = pd.DataFrame(df, columns=[\"pov\"] )\n",
    "#상수항 설정\n",
    "dfX = sm.add_constant(dfX0)\n"
   ]
  },
  {
   "cell_type": "code",
   "execution_count": 54,
   "metadata": {},
   "outputs": [
    {
     "name": "stdout",
     "output_type": "stream",
     "text": [
      "                            OLS Regression Results                            \n",
      "==============================================================================\n",
      "Dep. Variable:                    pov   R-squared:                       0.506\n",
      "Model:                            OLS   Adj. R-squared:                  0.501\n",
      "Method:                 Least Squares   F-statistic:                     108.0\n",
      "Date:                Mon, 13 Jun 2022   Prob (F-statistic):           2.05e-78\n",
      "Time:                        20:02:25   Log-Likelihood:                 370.04\n",
      "No. Observations:                 534   AIC:                            -728.1\n",
      "Df Residuals:                     528   BIC:                            -702.4\n",
      "Df Model:                           5                                         \n",
      "Covariance Type:            nonrobust                                         \n",
      "==============================================================================\n",
      "                 coef    std err          t      P>|t|      [0.025      0.975]\n",
      "------------------------------------------------------------------------------\n",
      "const          0.1741      0.080      2.187      0.029       0.018       0.331\n",
      "obp            1.9421      0.362      5.368      0.000       1.231       2.653\n",
      "slg            1.3090      0.156      8.410      0.000       1.003       1.615\n",
      "ba            -1.4759      0.410     -3.603      0.000      -2.281      -0.671\n",
      "era           -0.0851      0.008    -10.769      0.000      -0.101      -0.070\n",
      "whip          -0.0590      0.047     -1.246      0.213      -0.152       0.034\n",
      "==============================================================================\n",
      "Omnibus:                       96.939   Durbin-Watson:                   1.914\n",
      "Prob(Omnibus):                  0.000   Jarque-Bera (JB):              989.572\n",
      "Skew:                          -0.429   Prob(JB):                    1.31e-215\n",
      "Kurtosis:                       9.614   Cond. No.                         494.\n",
      "==============================================================================\n",
      "\n",
      "Notes:\n",
      "[1] Standard Errors assume that the covariance matrix of the errors is correctly specified.\n"
     ]
    }
   ],
   "source": [
    "#회귀분석\n",
    "model_baseball = sm.OLS(dfy, dfX)\n",
    "result_baseball_ols = model_baseball.fit()\n",
    "print(result_baseball_ols.summary())"
   ]
  },
  {
   "cell_type": "code",
   "execution_count": 9,
   "metadata": {},
   "outputs": [
    {
     "data": {
      "text/html": [
       "<div>\n",
       "<style scoped>\n",
       "    .dataframe tbody tr th:only-of-type {\n",
       "        vertical-align: middle;\n",
       "    }\n",
       "\n",
       "    .dataframe tbody tr th {\n",
       "        vertical-align: top;\n",
       "    }\n",
       "\n",
       "    .dataframe thead th {\n",
       "        text-align: right;\n",
       "    }\n",
       "</style>\n",
       "<table border=\"1\" class=\"dataframe\">\n",
       "  <thead>\n",
       "    <tr style=\"text-align: right;\">\n",
       "      <th></th>\n",
       "      <th>team</th>\n",
       "      <th>year</th>\n",
       "      <th>month</th>\n",
       "      <th>pov</th>\n",
       "      <th>obp</th>\n",
       "      <th>slg</th>\n",
       "      <th>ba</th>\n",
       "      <th>era</th>\n",
       "      <th>whip</th>\n",
       "    </tr>\n",
       "  </thead>\n",
       "  <tbody>\n",
       "    <tr>\n",
       "      <th>0</th>\n",
       "      <td>1</td>\n",
       "      <td>2015</td>\n",
       "      <td>3</td>\n",
       "      <td>0.000</td>\n",
       "      <td>0.403</td>\n",
       "      <td>0.412</td>\n",
       "      <td>0.284</td>\n",
       "      <td>8.28</td>\n",
       "      <td>1.92</td>\n",
       "    </tr>\n",
       "    <tr>\n",
       "      <th>1</th>\n",
       "      <td>1</td>\n",
       "      <td>2015</td>\n",
       "      <td>4</td>\n",
       "      <td>0.136</td>\n",
       "      <td>0.290</td>\n",
       "      <td>0.295</td>\n",
       "      <td>0.208</td>\n",
       "      <td>5.52</td>\n",
       "      <td>1.79</td>\n",
       "    </tr>\n",
       "    <tr>\n",
       "      <th>2</th>\n",
       "      <td>1</td>\n",
       "      <td>2015</td>\n",
       "      <td>5</td>\n",
       "      <td>0.259</td>\n",
       "      <td>0.342</td>\n",
       "      <td>0.356</td>\n",
       "      <td>0.263</td>\n",
       "      <td>5.72</td>\n",
       "      <td>1.58</td>\n",
       "    </tr>\n",
       "    <tr>\n",
       "      <th>3</th>\n",
       "      <td>1</td>\n",
       "      <td>2015</td>\n",
       "      <td>6</td>\n",
       "      <td>0.478</td>\n",
       "      <td>0.353</td>\n",
       "      <td>0.456</td>\n",
       "      <td>0.290</td>\n",
       "      <td>5.93</td>\n",
       "      <td>1.68</td>\n",
       "    </tr>\n",
       "    <tr>\n",
       "      <th>4</th>\n",
       "      <td>1</td>\n",
       "      <td>2015</td>\n",
       "      <td>7</td>\n",
       "      <td>0.444</td>\n",
       "      <td>0.339</td>\n",
       "      <td>0.431</td>\n",
       "      <td>0.274</td>\n",
       "      <td>5.73</td>\n",
       "      <td>1.60</td>\n",
       "    </tr>\n",
       "    <tr>\n",
       "      <th>...</th>\n",
       "      <td>...</td>\n",
       "      <td>...</td>\n",
       "      <td>...</td>\n",
       "      <td>...</td>\n",
       "      <td>...</td>\n",
       "      <td>...</td>\n",
       "      <td>...</td>\n",
       "      <td>...</td>\n",
       "      <td>...</td>\n",
       "    </tr>\n",
       "    <tr>\n",
       "      <th>529</th>\n",
       "      <td>10</td>\n",
       "      <td>2021</td>\n",
       "      <td>8</td>\n",
       "      <td>0.500</td>\n",
       "      <td>0.331</td>\n",
       "      <td>0.331</td>\n",
       "      <td>0.231</td>\n",
       "      <td>4.33</td>\n",
       "      <td>1.46</td>\n",
       "    </tr>\n",
       "    <tr>\n",
       "      <th>530</th>\n",
       "      <td>10</td>\n",
       "      <td>2021</td>\n",
       "      <td>9</td>\n",
       "      <td>0.381</td>\n",
       "      <td>0.361</td>\n",
       "      <td>0.373</td>\n",
       "      <td>0.263</td>\n",
       "      <td>4.92</td>\n",
       "      <td>1.38</td>\n",
       "    </tr>\n",
       "    <tr>\n",
       "      <th>531</th>\n",
       "      <td>10</td>\n",
       "      <td>2021</td>\n",
       "      <td>10</td>\n",
       "      <td>0.278</td>\n",
       "      <td>0.318</td>\n",
       "      <td>0.310</td>\n",
       "      <td>0.219</td>\n",
       "      <td>4.18</td>\n",
       "      <td>1.47</td>\n",
       "    </tr>\n",
       "    <tr>\n",
       "      <th>532</th>\n",
       "      <td>10</td>\n",
       "      <td>2022</td>\n",
       "      <td>4</td>\n",
       "      <td>0.360</td>\n",
       "      <td>0.309</td>\n",
       "      <td>0.309</td>\n",
       "      <td>0.225</td>\n",
       "      <td>4.00</td>\n",
       "      <td>1.40</td>\n",
       "    </tr>\n",
       "    <tr>\n",
       "      <th>533</th>\n",
       "      <td>10</td>\n",
       "      <td>2022</td>\n",
       "      <td>5</td>\n",
       "      <td>0.385</td>\n",
       "      <td>0.318</td>\n",
       "      <td>0.387</td>\n",
       "      <td>0.251</td>\n",
       "      <td>6.51</td>\n",
       "      <td>1.67</td>\n",
       "    </tr>\n",
       "  </tbody>\n",
       "</table>\n",
       "<p>534 rows × 9 columns</p>\n",
       "</div>"
      ],
      "text/plain": [
       "     team  year  month    pov    obp    slg     ba   era  whip\n",
       "0       1  2015      3  0.000  0.403  0.412  0.284  8.28  1.92\n",
       "1       1  2015      4  0.136  0.290  0.295  0.208  5.52  1.79\n",
       "2       1  2015      5  0.259  0.342  0.356  0.263  5.72  1.58\n",
       "3       1  2015      6  0.478  0.353  0.456  0.290  5.93  1.68\n",
       "4       1  2015      7  0.444  0.339  0.431  0.274  5.73  1.60\n",
       "..    ...   ...    ...    ...    ...    ...    ...   ...   ...\n",
       "529    10  2021      8  0.500  0.331  0.331  0.231  4.33  1.46\n",
       "530    10  2021      9  0.381  0.361  0.373  0.263  4.92  1.38\n",
       "531    10  2021     10  0.278  0.318  0.310  0.219  4.18  1.47\n",
       "532    10  2022      4  0.360  0.309  0.309  0.225  4.00  1.40\n",
       "533    10  2022      5  0.385  0.318  0.387  0.251  6.51  1.67\n",
       "\n",
       "[534 rows x 9 columns]"
      ]
     },
     "execution_count": 9,
     "metadata": {},
     "output_type": "execute_result"
    }
   ],
   "source": [
    "df"
   ]
  },
  {
   "cell_type": "code",
   "execution_count": 26,
   "metadata": {},
   "outputs": [],
   "source": [
    "this_year_score=pd.DataFrame( pd.read_csv('./data/2022yearcumul01.csv') )"
   ]
  },
  {
   "cell_type": "code",
   "execution_count": 27,
   "metadata": {},
   "outputs": [
    {
     "data": {
      "text/html": [
       "<div>\n",
       "<style scoped>\n",
       "    .dataframe tbody tr th:only-of-type {\n",
       "        vertical-align: middle;\n",
       "    }\n",
       "\n",
       "    .dataframe tbody tr th {\n",
       "        vertical-align: top;\n",
       "    }\n",
       "\n",
       "    .dataframe thead th {\n",
       "        text-align: right;\n",
       "    }\n",
       "</style>\n",
       "<table border=\"1\" class=\"dataframe\">\n",
       "  <thead>\n",
       "    <tr style=\"text-align: right;\">\n",
       "      <th></th>\n",
       "      <th>team</th>\n",
       "      <th>OBP</th>\n",
       "      <th>SLG</th>\n",
       "      <th>BA</th>\n",
       "      <th>ERA</th>\n",
       "      <th>WHIP</th>\n",
       "      <th>POV</th>\n",
       "      <th>이름</th>\n",
       "    </tr>\n",
       "  </thead>\n",
       "  <tbody>\n",
       "    <tr>\n",
       "      <th>0</th>\n",
       "      <td>9</td>\n",
       "      <td>0.350</td>\n",
       "      <td>0.409</td>\n",
       "      <td>0.269</td>\n",
       "      <td>4.03</td>\n",
       "      <td>1.34</td>\n",
       "      <td>0.542</td>\n",
       "      <td>기아</td>\n",
       "    </tr>\n",
       "    <tr>\n",
       "      <th>1</th>\n",
       "      <td>4</td>\n",
       "      <td>0.340</td>\n",
       "      <td>0.392</td>\n",
       "      <td>0.264</td>\n",
       "      <td>3.78</td>\n",
       "      <td>1.36</td>\n",
       "      <td>0.567</td>\n",
       "      <td>lg</td>\n",
       "    </tr>\n",
       "    <tr>\n",
       "      <th>2</th>\n",
       "      <td>5</td>\n",
       "      <td>0.326</td>\n",
       "      <td>0.365</td>\n",
       "      <td>0.246</td>\n",
       "      <td>3.49</td>\n",
       "      <td>1.26</td>\n",
       "      <td>0.600</td>\n",
       "      <td>키움</td>\n",
       "    </tr>\n",
       "    <tr>\n",
       "      <th>3</th>\n",
       "      <td>6</td>\n",
       "      <td>0.330</td>\n",
       "      <td>0.370</td>\n",
       "      <td>0.249</td>\n",
       "      <td>3.56</td>\n",
       "      <td>1.21</td>\n",
       "      <td>0.661</td>\n",
       "      <td>ssg</td>\n",
       "    </tr>\n",
       "    <tr>\n",
       "      <th>4</th>\n",
       "      <td>2</td>\n",
       "      <td>0.331</td>\n",
       "      <td>0.357</td>\n",
       "      <td>0.256</td>\n",
       "      <td>4.12</td>\n",
       "      <td>1.42</td>\n",
       "      <td>0.483</td>\n",
       "      <td>두산</td>\n",
       "    </tr>\n",
       "    <tr>\n",
       "      <th>5</th>\n",
       "      <td>1</td>\n",
       "      <td>0.326</td>\n",
       "      <td>0.352</td>\n",
       "      <td>0.247</td>\n",
       "      <td>3.58</td>\n",
       "      <td>1.24</td>\n",
       "      <td>0.475</td>\n",
       "      <td>kt</td>\n",
       "    </tr>\n",
       "    <tr>\n",
       "      <th>6</th>\n",
       "      <td>7</td>\n",
       "      <td>0.320</td>\n",
       "      <td>0.363</td>\n",
       "      <td>0.248</td>\n",
       "      <td>3.85</td>\n",
       "      <td>1.36</td>\n",
       "      <td>0.383</td>\n",
       "      <td>nc</td>\n",
       "    </tr>\n",
       "    <tr>\n",
       "      <th>7</th>\n",
       "      <td>3</td>\n",
       "      <td>0.321</td>\n",
       "      <td>0.365</td>\n",
       "      <td>0.260</td>\n",
       "      <td>3.86</td>\n",
       "      <td>1.39</td>\n",
       "      <td>0.483</td>\n",
       "      <td>삼성</td>\n",
       "    </tr>\n",
       "    <tr>\n",
       "      <th>8</th>\n",
       "      <td>10</td>\n",
       "      <td>0.317</td>\n",
       "      <td>0.355</td>\n",
       "      <td>0.242</td>\n",
       "      <td>5.30</td>\n",
       "      <td>1.53</td>\n",
       "      <td>0.361</td>\n",
       "      <td>한화</td>\n",
       "    </tr>\n",
       "    <tr>\n",
       "      <th>9</th>\n",
       "      <td>8</td>\n",
       "      <td>0.313</td>\n",
       "      <td>0.366</td>\n",
       "      <td>0.254</td>\n",
       "      <td>4.03</td>\n",
       "      <td>1.36</td>\n",
       "      <td>0.448</td>\n",
       "      <td>롯데</td>\n",
       "    </tr>\n",
       "  </tbody>\n",
       "</table>\n",
       "</div>"
      ],
      "text/plain": [
       "   team    OBP    SLG     BA   ERA  WHIP    POV   이름\n",
       "0     9  0.350  0.409  0.269  4.03  1.34  0.542   기아\n",
       "1     4  0.340  0.392  0.264  3.78  1.36  0.567   lg\n",
       "2     5  0.326  0.365  0.246  3.49  1.26  0.600   키움\n",
       "3     6  0.330  0.370  0.249  3.56  1.21  0.661  ssg\n",
       "4     2  0.331  0.357  0.256  4.12  1.42  0.483   두산\n",
       "5     1  0.326  0.352  0.247  3.58  1.24  0.475   kt\n",
       "6     7  0.320  0.363  0.248  3.85  1.36  0.383   nc\n",
       "7     3  0.321  0.365  0.260  3.86  1.39  0.483   삼성\n",
       "8    10  0.317  0.355  0.242  5.30  1.53  0.361   한화\n",
       "9     8  0.313  0.366  0.254  4.03  1.36  0.448   롯데"
      ]
     },
     "execution_count": 27,
     "metadata": {},
     "output_type": "execute_result"
    }
   ],
   "source": [
    "this_year_score"
   ]
  },
  {
   "cell_type": "code",
   "execution_count": 33,
   "metadata": {},
   "outputs": [],
   "source": [
    "this_year_score = this_year_score.drop(['team', '이름'], axis=1)"
   ]
  },
  {
   "cell_type": "code",
   "execution_count": 34,
   "metadata": {},
   "outputs": [
    {
     "data": {
      "text/html": [
       "<div>\n",
       "<style scoped>\n",
       "    .dataframe tbody tr th:only-of-type {\n",
       "        vertical-align: middle;\n",
       "    }\n",
       "\n",
       "    .dataframe tbody tr th {\n",
       "        vertical-align: top;\n",
       "    }\n",
       "\n",
       "    .dataframe thead th {\n",
       "        text-align: right;\n",
       "    }\n",
       "</style>\n",
       "<table border=\"1\" class=\"dataframe\">\n",
       "  <thead>\n",
       "    <tr style=\"text-align: right;\">\n",
       "      <th></th>\n",
       "      <th>OBP</th>\n",
       "      <th>SLG</th>\n",
       "      <th>BA</th>\n",
       "      <th>ERA</th>\n",
       "      <th>WHIP</th>\n",
       "      <th>POV</th>\n",
       "    </tr>\n",
       "  </thead>\n",
       "  <tbody>\n",
       "    <tr>\n",
       "      <th>0</th>\n",
       "      <td>0.350</td>\n",
       "      <td>0.409</td>\n",
       "      <td>0.269</td>\n",
       "      <td>4.03</td>\n",
       "      <td>1.34</td>\n",
       "      <td>0.542</td>\n",
       "    </tr>\n",
       "    <tr>\n",
       "      <th>1</th>\n",
       "      <td>0.340</td>\n",
       "      <td>0.392</td>\n",
       "      <td>0.264</td>\n",
       "      <td>3.78</td>\n",
       "      <td>1.36</td>\n",
       "      <td>0.567</td>\n",
       "    </tr>\n",
       "    <tr>\n",
       "      <th>2</th>\n",
       "      <td>0.326</td>\n",
       "      <td>0.365</td>\n",
       "      <td>0.246</td>\n",
       "      <td>3.49</td>\n",
       "      <td>1.26</td>\n",
       "      <td>0.600</td>\n",
       "    </tr>\n",
       "    <tr>\n",
       "      <th>3</th>\n",
       "      <td>0.330</td>\n",
       "      <td>0.370</td>\n",
       "      <td>0.249</td>\n",
       "      <td>3.56</td>\n",
       "      <td>1.21</td>\n",
       "      <td>0.661</td>\n",
       "    </tr>\n",
       "    <tr>\n",
       "      <th>4</th>\n",
       "      <td>0.331</td>\n",
       "      <td>0.357</td>\n",
       "      <td>0.256</td>\n",
       "      <td>4.12</td>\n",
       "      <td>1.42</td>\n",
       "      <td>0.483</td>\n",
       "    </tr>\n",
       "    <tr>\n",
       "      <th>5</th>\n",
       "      <td>0.326</td>\n",
       "      <td>0.352</td>\n",
       "      <td>0.247</td>\n",
       "      <td>3.58</td>\n",
       "      <td>1.24</td>\n",
       "      <td>0.475</td>\n",
       "    </tr>\n",
       "    <tr>\n",
       "      <th>6</th>\n",
       "      <td>0.320</td>\n",
       "      <td>0.363</td>\n",
       "      <td>0.248</td>\n",
       "      <td>3.85</td>\n",
       "      <td>1.36</td>\n",
       "      <td>0.383</td>\n",
       "    </tr>\n",
       "    <tr>\n",
       "      <th>7</th>\n",
       "      <td>0.321</td>\n",
       "      <td>0.365</td>\n",
       "      <td>0.260</td>\n",
       "      <td>3.86</td>\n",
       "      <td>1.39</td>\n",
       "      <td>0.483</td>\n",
       "    </tr>\n",
       "    <tr>\n",
       "      <th>8</th>\n",
       "      <td>0.317</td>\n",
       "      <td>0.355</td>\n",
       "      <td>0.242</td>\n",
       "      <td>5.30</td>\n",
       "      <td>1.53</td>\n",
       "      <td>0.361</td>\n",
       "    </tr>\n",
       "    <tr>\n",
       "      <th>9</th>\n",
       "      <td>0.313</td>\n",
       "      <td>0.366</td>\n",
       "      <td>0.254</td>\n",
       "      <td>4.03</td>\n",
       "      <td>1.36</td>\n",
       "      <td>0.448</td>\n",
       "    </tr>\n",
       "  </tbody>\n",
       "</table>\n",
       "</div>"
      ],
      "text/plain": [
       "     OBP    SLG     BA   ERA  WHIP    POV\n",
       "0  0.350  0.409  0.269  4.03  1.34  0.542\n",
       "1  0.340  0.392  0.264  3.78  1.36  0.567\n",
       "2  0.326  0.365  0.246  3.49  1.26  0.600\n",
       "3  0.330  0.370  0.249  3.56  1.21  0.661\n",
       "4  0.331  0.357  0.256  4.12  1.42  0.483\n",
       "5  0.326  0.352  0.247  3.58  1.24  0.475\n",
       "6  0.320  0.363  0.248  3.85  1.36  0.383\n",
       "7  0.321  0.365  0.260  3.86  1.39  0.483\n",
       "8  0.317  0.355  0.242  5.30  1.53  0.361\n",
       "9  0.313  0.366  0.254  4.03  1.36  0.448"
      ]
     },
     "execution_count": 34,
     "metadata": {},
     "output_type": "execute_result"
    }
   ],
   "source": [
    "this_year_score"
   ]
  },
  {
   "cell_type": "code",
   "execution_count": 36,
   "metadata": {},
   "outputs": [
    {
     "data": {
      "text/plain": [
       "team        9\n",
       "OBP      0.35\n",
       "SLG     0.409\n",
       "BA      0.269\n",
       "ERA      4.03\n",
       "WHIP     1.34\n",
       "POV     0.542\n",
       "이름         기아\n",
       "Name: 0, dtype: object"
      ]
     },
     "execution_count": 36,
     "metadata": {},
     "output_type": "execute_result"
    }
   ],
   "source": [
    "row"
   ]
  },
  {
   "cell_type": "code",
   "execution_count": 45,
   "metadata": {},
   "outputs": [],
   "source": [
    "sm.add_constant(row)\n",
    "row['const']=1"
   ]
  },
  {
   "cell_type": "code",
   "execution_count": 46,
   "metadata": {},
   "outputs": [
    {
     "data": {
      "text/plain": [
       "OBP      0.350\n",
       "SLG      0.409\n",
       "BA       0.269\n",
       "ERA      4.030\n",
       "WHIP     1.340\n",
       "POV      0.542\n",
       "const    1.000\n",
       "Name: 0, dtype: float64"
      ]
     },
     "execution_count": 46,
     "metadata": {},
     "output_type": "execute_result"
    }
   ],
   "source": [
    "row"
   ]
  },
  {
   "cell_type": "code",
   "execution_count": 50,
   "metadata": {},
   "outputs": [
    {
     "data": {
      "text/plain": [
       "OBP    0.350\n",
       "SLG    0.409\n",
       "Name: 0, dtype: float64"
      ]
     },
     "execution_count": 50,
     "metadata": {},
     "output_type": "execute_result"
    }
   ],
   "source": [
    "row[['OBP','SLG']]"
   ]
  },
  {
   "cell_type": "code",
   "execution_count": 51,
   "metadata": {},
   "outputs": [
    {
     "data": {
      "text/plain": [
       "OBP     0.350\n",
       "SLG     0.409\n",
       "BA      0.269\n",
       "ERA     4.030\n",
       "WHIP    1.340\n",
       "POV     0.542\n",
       "Name: 0, dtype: float64"
      ]
     },
     "execution_count": 51,
     "metadata": {},
     "output_type": "execute_result"
    }
   ],
   "source": [
    "row"
   ]
  },
  {
   "cell_type": "code",
   "execution_count": 56,
   "metadata": {},
   "outputs": [
    {
     "name": "stdout",
     "output_type": "stream",
     "text": [
      "예측값:  0.57    실제값:  0.542\n",
      "예측값:  0.556    실제값:  0.567\n",
      "예측값:  0.55    실제값:  0.6\n",
      "예측값:  0.557    실제값:  0.661\n",
      "예측값:  0.472    실제값:  0.483\n",
      "예측값:  0.526    실제값:  0.475\n",
      "예측값:  0.497    실제값:  0.383\n",
      "예측값:  0.481    실제값:  0.483\n",
      "예측값:  0.356    실제값:  0.361\n",
      "예측값:  0.463    실제값:  0.448\n"
     ]
    }
   ],
   "source": [
    "pov22=[]\n",
    "pov22_pred=[]\n",
    "pov22_team=[]\n",
    "for idx, row in this_year_score.iterrows():\n",
    "    row['const'] =1\n",
    "    \n",
    "    a= result_baseball_ols.predict(     row[ ['const', 'OBP','SLG','BA','ERA','WHIP' ]]    )\n",
    "    print('예측값: ', round( a[0],3), end='    ')\n",
    "    pov22_pred.append(round( a[0],3))\n",
    "    b= this_year_score['POV'][idx]\n",
    "    print('실제값: ',b)\n",
    "    pov22.append(b)\n",
    "    c=idx\n",
    "    pov22_team.append(c)"
   ]
  },
  {
   "cell_type": "code",
   "execution_count": 57,
   "metadata": {},
   "outputs": [
    {
     "data": {
      "text/plain": [
       "([0.542, 0.567, 0.6, 0.661, 0.483, 0.475, 0.383, 0.483, 0.361, 0.448],\n",
       " [0.57, 0.556, 0.55, 0.557, 0.472, 0.526, 0.497, 0.481, 0.356, 0.463])"
      ]
     },
     "execution_count": 57,
     "metadata": {},
     "output_type": "execute_result"
    }
   ],
   "source": [
    "pov22,pov22_pred"
   ]
  },
  {
   "cell_type": "code",
   "execution_count": 13,
   "metadata": {},
   "outputs": [],
   "source": [
    "from matplotlib import pyplot as plt\n",
    "import seaborn as sns"
   ]
  },
  {
   "cell_type": "code",
   "execution_count": 62,
   "metadata": {},
   "outputs": [
    {
     "data": {
      "image/png": "[encoded data removed]",
      "text/plain": [
       "<Figure size 432x288 with 1 Axes>"
      ]
     },
     "metadata": {
      "needs_background": "light"
     },
     "output_type": "display_data"
    }
   ],
   "source": [
    "scatter =plt.scatter(pov22, pov22_pred) \n",
    "plt.xlabel('실제값',labelpad=10)\n",
    "plt.ylabel('예측값', labelpad=10)\n",
    "plt.plot([0.35, 0.7], [0.35, 0.7],color=\"green\", lw='1',  )\n",
    "plt.figure;"
   ]
  }
 ],
 "metadata": {
  "kernelspec": {
   "display_name": "Python 3.8.13 ('ds_study')",
   "language": "python",
   "name": "python3"
  },
  "language_info": {
   "codemirror_mode": {
    "name": "ipython",
    "version": 3
   },
   "file_extension": ".py",
   "mimetype": "text/x-python",
   "name": "python",
   "nbconvert_exporter": "python",
   "pygments_lexer": "ipython3",
   "version": "3.8.13"
  },
  "orig_nbformat": 4,
  "vscode": {
   "interpreter": {
    "hash": "ef3e3e7272202be05dbefff216556556e590f117f2ce0ae9200cf985588ca774"
   }
  }
 },
 "nbformat": 4,
 "nbformat_minor": 2
}

{
 "cells": [
  {
   "cell_type": "markdown",
   "metadata": {},
   "source": [
    "## grade 1~4 기준\n",
    "- 항목: month, obp, slg, ba, era, whip + grade"
   ]
  },
  {
   "cell_type": "code",
   "execution_count": 51,
   "metadata": {},
   "outputs": [],
   "source": [
    "import pandas as pd\n",
    "import matplotlib.pyplot as plt\n",
    "import seaborn as sns\n",
    "import numpy as np\n",
    "%matplotlib inline"
   ]
  },
  {
   "cell_type": "code",
   "execution_count": 52,
   "metadata": {},
   "outputs": [],
   "source": [
    "# 구단별 No\n",
    "\n",
    "# 1. kt wiz\n",
    "# 2. 두산 베어스\n",
    "# 3. 삼성 라이온즈\n",
    "# 4. LG 트윈스\n",
    "# 5. 키움히어로즈\n",
    "# 6. SSG 랜더스\n",
    "# 7. NC 다이노스\n",
    "# 8. 롯데 자이언츠\n",
    "# 9. 기아 타이거즈\n",
    "# 10. 한화 이글스"
   ]
  },
  {
   "cell_type": "code",
   "execution_count": 53,
   "metadata": {},
   "outputs": [
    {
     "data": {
      "text/html": [
       "<div>\n",
       "<style scoped>\n",
       "    .dataframe tbody tr th:only-of-type {\n",
       "        vertical-align: middle;\n",
       "    }\n",
       "\n",
       "    .dataframe tbody tr th {\n",
       "        vertical-align: top;\n",
       "    }\n",
       "\n",
       "    .dataframe thead th {\n",
       "        text-align: right;\n",
       "    }\n",
       "</style>\n",
       "<table border=\"1\" class=\"dataframe\">\n",
       "  <thead>\n",
       "    <tr style=\"text-align: right;\">\n",
       "      <th></th>\n",
       "      <th>team</th>\n",
       "      <th>year</th>\n",
       "      <th>month</th>\n",
       "      <th>pov</th>\n",
       "      <th>obp</th>\n",
       "      <th>slg</th>\n",
       "      <th>ba</th>\n",
       "      <th>era</th>\n",
       "      <th>whip</th>\n",
       "    </tr>\n",
       "  </thead>\n",
       "  <tbody>\n",
       "    <tr>\n",
       "      <th>0</th>\n",
       "      <td>1</td>\n",
       "      <td>2015</td>\n",
       "      <td>3</td>\n",
       "      <td>0.000</td>\n",
       "      <td>0.403</td>\n",
       "      <td>0.412</td>\n",
       "      <td>0.284</td>\n",
       "      <td>8.28</td>\n",
       "      <td>1.92</td>\n",
       "    </tr>\n",
       "    <tr>\n",
       "      <th>1</th>\n",
       "      <td>1</td>\n",
       "      <td>2015</td>\n",
       "      <td>4</td>\n",
       "      <td>0.136</td>\n",
       "      <td>0.290</td>\n",
       "      <td>0.295</td>\n",
       "      <td>0.208</td>\n",
       "      <td>5.52</td>\n",
       "      <td>1.79</td>\n",
       "    </tr>\n",
       "    <tr>\n",
       "      <th>2</th>\n",
       "      <td>1</td>\n",
       "      <td>2015</td>\n",
       "      <td>5</td>\n",
       "      <td>0.259</td>\n",
       "      <td>0.342</td>\n",
       "      <td>0.356</td>\n",
       "      <td>0.263</td>\n",
       "      <td>5.72</td>\n",
       "      <td>1.58</td>\n",
       "    </tr>\n",
       "    <tr>\n",
       "      <th>3</th>\n",
       "      <td>1</td>\n",
       "      <td>2015</td>\n",
       "      <td>6</td>\n",
       "      <td>0.478</td>\n",
       "      <td>0.353</td>\n",
       "      <td>0.456</td>\n",
       "      <td>0.290</td>\n",
       "      <td>5.93</td>\n",
       "      <td>1.68</td>\n",
       "    </tr>\n",
       "    <tr>\n",
       "      <th>4</th>\n",
       "      <td>1</td>\n",
       "      <td>2015</td>\n",
       "      <td>7</td>\n",
       "      <td>0.444</td>\n",
       "      <td>0.339</td>\n",
       "      <td>0.431</td>\n",
       "      <td>0.274</td>\n",
       "      <td>5.73</td>\n",
       "      <td>1.60</td>\n",
       "    </tr>\n",
       "    <tr>\n",
       "      <th>...</th>\n",
       "      <td>...</td>\n",
       "      <td>...</td>\n",
       "      <td>...</td>\n",
       "      <td>...</td>\n",
       "      <td>...</td>\n",
       "      <td>...</td>\n",
       "      <td>...</td>\n",
       "      <td>...</td>\n",
       "      <td>...</td>\n",
       "    </tr>\n",
       "    <tr>\n",
       "      <th>529</th>\n",
       "      <td>10</td>\n",
       "      <td>2021</td>\n",
       "      <td>8</td>\n",
       "      <td>0.500</td>\n",
       "      <td>0.331</td>\n",
       "      <td>0.331</td>\n",
       "      <td>0.231</td>\n",
       "      <td>4.33</td>\n",
       "      <td>1.46</td>\n",
       "    </tr>\n",
       "    <tr>\n",
       "      <th>530</th>\n",
       "      <td>10</td>\n",
       "      <td>2021</td>\n",
       "      <td>9</td>\n",
       "      <td>0.381</td>\n",
       "      <td>0.361</td>\n",
       "      <td>0.373</td>\n",
       "      <td>0.263</td>\n",
       "      <td>4.92</td>\n",
       "      <td>1.38</td>\n",
       "    </tr>\n",
       "    <tr>\n",
       "      <th>531</th>\n",
       "      <td>10</td>\n",
       "      <td>2021</td>\n",
       "      <td>10</td>\n",
       "      <td>0.278</td>\n",
       "      <td>0.318</td>\n",
       "      <td>0.310</td>\n",
       "      <td>0.219</td>\n",
       "      <td>4.18</td>\n",
       "      <td>1.47</td>\n",
       "    </tr>\n",
       "    <tr>\n",
       "      <th>532</th>\n",
       "      <td>10</td>\n",
       "      <td>2022</td>\n",
       "      <td>4</td>\n",
       "      <td>0.360</td>\n",
       "      <td>0.309</td>\n",
       "      <td>0.309</td>\n",
       "      <td>0.225</td>\n",
       "      <td>4.00</td>\n",
       "      <td>1.40</td>\n",
       "    </tr>\n",
       "    <tr>\n",
       "      <th>533</th>\n",
       "      <td>10</td>\n",
       "      <td>2022</td>\n",
       "      <td>5</td>\n",
       "      <td>0.385</td>\n",
       "      <td>0.318</td>\n",
       "      <td>0.387</td>\n",
       "      <td>0.251</td>\n",
       "      <td>6.51</td>\n",
       "      <td>1.67</td>\n",
       "    </tr>\n",
       "  </tbody>\n",
       "</table>\n",
       "<p>534 rows × 9 columns</p>\n",
       "</div>"
      ],
      "text/plain": [
       "     team  year  month    pov    obp    slg     ba   era  whip\n",
       "0       1  2015      3  0.000  0.403  0.412  0.284  8.28  1.92\n",
       "1       1  2015      4  0.136  0.290  0.295  0.208  5.52  1.79\n",
       "2       1  2015      5  0.259  0.342  0.356  0.263  5.72  1.58\n",
       "3       1  2015      6  0.478  0.353  0.456  0.290  5.93  1.68\n",
       "4       1  2015      7  0.444  0.339  0.431  0.274  5.73  1.60\n",
       "..    ...   ...    ...    ...    ...    ...    ...   ...   ...\n",
       "529    10  2021      8  0.500  0.331  0.331  0.231  4.33  1.46\n",
       "530    10  2021      9  0.381  0.361  0.373  0.263  4.92  1.38\n",
       "531    10  2021     10  0.278  0.318  0.310  0.219  4.18  1.47\n",
       "532    10  2022      4  0.360  0.309  0.309  0.225  4.00  1.40\n",
       "533    10  2022      5  0.385  0.318  0.387  0.251  6.51  1.67\n",
       "\n",
       "[534 rows x 9 columns]"
      ]
     },
     "execution_count": 53,
     "metadata": {},
     "output_type": "execute_result"
    }
   ],
   "source": [
    "bb = pd.read_csv(\"./Raw_First_Value.csv\") \n",
    "bb"
   ]
  },
  {
   "cell_type": "code",
   "execution_count": 54,
   "metadata": {},
   "outputs": [
    {
     "name": "stdout",
     "output_type": "stream",
     "text": [
      "<class 'pandas.core.frame.DataFrame'>\n",
      "RangeIndex: 534 entries, 0 to 533\n",
      "Data columns (total 9 columns):\n",
      " #   Column  Non-Null Count  Dtype  \n",
      "---  ------  --------------  -----  \n",
      " 0   team    534 non-null    int64  \n",
      " 1   year    534 non-null    int64  \n",
      " 2   month   534 non-null    int64  \n",
      " 3   pov     534 non-null    float64\n",
      " 4   obp     534 non-null    float64\n",
      " 5   slg     534 non-null    float64\n",
      " 6   ba      534 non-null    float64\n",
      " 7   era     534 non-null    float64\n",
      " 8   whip    534 non-null    float64\n",
      "dtypes: float64(6), int64(3)\n",
      "memory usage: 37.7 KB\n"
     ]
    }
   ],
   "source": [
    "bb.info()"
   ]
  },
  {
   "cell_type": "code",
   "execution_count": 55,
   "metadata": {},
   "outputs": [],
   "source": [
    "# 승률별 등급 차등 분류\n",
    "\n",
    "def get_grade_1(pov):\n",
    "    if pov>=0.60:\n",
    "        grade = 4\n",
    "    elif pov>=0.50:\n",
    "        grade = 3\n",
    "    elif pov>=0.40:\n",
    "        grade = 2\n",
    "    else:\n",
    "        grade = 1\n",
    "    return grade"
   ]
  },
  {
   "cell_type": "markdown",
   "metadata": {},
   "source": [
    "## grade 1~4 기준 "
   ]
  },
  {
   "cell_type": "code",
   "execution_count": 56,
   "metadata": {},
   "outputs": [
    {
     "data": {
      "text/html": [
       "<div>\n",
       "<style scoped>\n",
       "    .dataframe tbody tr th:only-of-type {\n",
       "        vertical-align: middle;\n",
       "    }\n",
       "\n",
       "    .dataframe tbody tr th {\n",
       "        vertical-align: top;\n",
       "    }\n",
       "\n",
       "    .dataframe thead th {\n",
       "        text-align: right;\n",
       "    }\n",
       "</style>\n",
       "<table border=\"1\" class=\"dataframe\">\n",
       "  <thead>\n",
       "    <tr style=\"text-align: right;\">\n",
       "      <th></th>\n",
       "      <th>team</th>\n",
       "      <th>year</th>\n",
       "      <th>month</th>\n",
       "      <th>pov</th>\n",
       "      <th>obp</th>\n",
       "      <th>slg</th>\n",
       "      <th>ba</th>\n",
       "      <th>era</th>\n",
       "      <th>whip</th>\n",
       "      <th>grade</th>\n",
       "    </tr>\n",
       "  </thead>\n",
       "  <tbody>\n",
       "    <tr>\n",
       "      <th>0</th>\n",
       "      <td>1</td>\n",
       "      <td>2015</td>\n",
       "      <td>3</td>\n",
       "      <td>0.000</td>\n",
       "      <td>0.403</td>\n",
       "      <td>0.412</td>\n",
       "      <td>0.284</td>\n",
       "      <td>8.28</td>\n",
       "      <td>1.92</td>\n",
       "      <td>1</td>\n",
       "    </tr>\n",
       "    <tr>\n",
       "      <th>1</th>\n",
       "      <td>1</td>\n",
       "      <td>2015</td>\n",
       "      <td>4</td>\n",
       "      <td>0.136</td>\n",
       "      <td>0.290</td>\n",
       "      <td>0.295</td>\n",
       "      <td>0.208</td>\n",
       "      <td>5.52</td>\n",
       "      <td>1.79</td>\n",
       "      <td>1</td>\n",
       "    </tr>\n",
       "    <tr>\n",
       "      <th>2</th>\n",
       "      <td>1</td>\n",
       "      <td>2015</td>\n",
       "      <td>5</td>\n",
       "      <td>0.259</td>\n",
       "      <td>0.342</td>\n",
       "      <td>0.356</td>\n",
       "      <td>0.263</td>\n",
       "      <td>5.72</td>\n",
       "      <td>1.58</td>\n",
       "      <td>1</td>\n",
       "    </tr>\n",
       "    <tr>\n",
       "      <th>3</th>\n",
       "      <td>1</td>\n",
       "      <td>2015</td>\n",
       "      <td>6</td>\n",
       "      <td>0.478</td>\n",
       "      <td>0.353</td>\n",
       "      <td>0.456</td>\n",
       "      <td>0.290</td>\n",
       "      <td>5.93</td>\n",
       "      <td>1.68</td>\n",
       "      <td>2</td>\n",
       "    </tr>\n",
       "    <tr>\n",
       "      <th>4</th>\n",
       "      <td>1</td>\n",
       "      <td>2015</td>\n",
       "      <td>7</td>\n",
       "      <td>0.444</td>\n",
       "      <td>0.339</td>\n",
       "      <td>0.431</td>\n",
       "      <td>0.274</td>\n",
       "      <td>5.73</td>\n",
       "      <td>1.60</td>\n",
       "      <td>2</td>\n",
       "    </tr>\n",
       "    <tr>\n",
       "      <th>...</th>\n",
       "      <td>...</td>\n",
       "      <td>...</td>\n",
       "      <td>...</td>\n",
       "      <td>...</td>\n",
       "      <td>...</td>\n",
       "      <td>...</td>\n",
       "      <td>...</td>\n",
       "      <td>...</td>\n",
       "      <td>...</td>\n",
       "      <td>...</td>\n",
       "    </tr>\n",
       "    <tr>\n",
       "      <th>529</th>\n",
       "      <td>10</td>\n",
       "      <td>2021</td>\n",
       "      <td>8</td>\n",
       "      <td>0.500</td>\n",
       "      <td>0.331</td>\n",
       "      <td>0.331</td>\n",
       "      <td>0.231</td>\n",
       "      <td>4.33</td>\n",
       "      <td>1.46</td>\n",
       "      <td>3</td>\n",
       "    </tr>\n",
       "    <tr>\n",
       "      <th>530</th>\n",
       "      <td>10</td>\n",
       "      <td>2021</td>\n",
       "      <td>9</td>\n",
       "      <td>0.381</td>\n",
       "      <td>0.361</td>\n",
       "      <td>0.373</td>\n",
       "      <td>0.263</td>\n",
       "      <td>4.92</td>\n",
       "      <td>1.38</td>\n",
       "      <td>1</td>\n",
       "    </tr>\n",
       "    <tr>\n",
       "      <th>531</th>\n",
       "      <td>10</td>\n",
       "      <td>2021</td>\n",
       "      <td>10</td>\n",
       "      <td>0.278</td>\n",
       "      <td>0.318</td>\n",
       "      <td>0.310</td>\n",
       "      <td>0.219</td>\n",
       "      <td>4.18</td>\n",
       "      <td>1.47</td>\n",
       "      <td>1</td>\n",
       "    </tr>\n",
       "    <tr>\n",
       "      <th>532</th>\n",
       "      <td>10</td>\n",
       "      <td>2022</td>\n",
       "      <td>4</td>\n",
       "      <td>0.360</td>\n",
       "      <td>0.309</td>\n",
       "      <td>0.309</td>\n",
       "      <td>0.225</td>\n",
       "      <td>4.00</td>\n",
       "      <td>1.40</td>\n",
       "      <td>1</td>\n",
       "    </tr>\n",
       "    <tr>\n",
       "      <th>533</th>\n",
       "      <td>10</td>\n",
       "      <td>2022</td>\n",
       "      <td>5</td>\n",
       "      <td>0.385</td>\n",
       "      <td>0.318</td>\n",
       "      <td>0.387</td>\n",
       "      <td>0.251</td>\n",
       "      <td>6.51</td>\n",
       "      <td>1.67</td>\n",
       "      <td>1</td>\n",
       "    </tr>\n",
       "  </tbody>\n",
       "</table>\n",
       "<p>534 rows × 10 columns</p>\n",
       "</div>"
      ],
      "text/plain": [
       "     team  year  month    pov    obp    slg     ba   era  whip  grade\n",
       "0       1  2015      3  0.000  0.403  0.412  0.284  8.28  1.92      1\n",
       "1       1  2015      4  0.136  0.290  0.295  0.208  5.52  1.79      1\n",
       "2       1  2015      5  0.259  0.342  0.356  0.263  5.72  1.58      1\n",
       "3       1  2015      6  0.478  0.353  0.456  0.290  5.93  1.68      2\n",
       "4       1  2015      7  0.444  0.339  0.431  0.274  5.73  1.60      2\n",
       "..    ...   ...    ...    ...    ...    ...    ...   ...   ...    ...\n",
       "529    10  2021      8  0.500  0.331  0.331  0.231  4.33  1.46      3\n",
       "530    10  2021      9  0.381  0.361  0.373  0.263  4.92  1.38      1\n",
       "531    10  2021     10  0.278  0.318  0.310  0.219  4.18  1.47      1\n",
       "532    10  2022      4  0.360  0.309  0.309  0.225  4.00  1.40      1\n",
       "533    10  2022      5  0.385  0.318  0.387  0.251  6.51  1.67      1\n",
       "\n",
       "[534 rows x 10 columns]"
      ]
     },
     "execution_count": 56,
     "metadata": {},
     "output_type": "execute_result"
    }
   ],
   "source": [
    "# grade 1~4 기준 (Grade 4 = 0.60 이상 , Grade 3 = 0.50 이상 0.60 미만, Grade 2 = 0.40 이상 0.50 미만, Grade 1 = 0.40 미만)\n",
    "bb['grade'] = bb['pov'].apply(lambda pov: get_grade_1(pov))\n",
    "bb"
   ]
  },
  {
   "cell_type": "markdown",
   "metadata": {},
   "source": [
    "### OLS"
   ]
  },
  {
   "cell_type": "markdown",
   "metadata": {},
   "source": [
    "#### OLS 1. 상수 X"
   ]
  },
  {
   "cell_type": "code",
   "execution_count": 57,
   "metadata": {},
   "outputs": [
    {
     "data": {
      "text/html": [
       "<table class=\"simpletable\">\n",
       "<caption>OLS Regression Results</caption>\n",
       "<tr>\n",
       "  <th>Dep. Variable:</th>          <td>grade</td>      <th>  R-squared (uncentered):</th>      <td>   0.927</td> \n",
       "</tr>\n",
       "<tr>\n",
       "  <th>Model:</th>                   <td>OLS</td>       <th>  Adj. R-squared (uncentered):</th> <td>   0.926</td> \n",
       "</tr>\n",
       "<tr>\n",
       "  <th>Method:</th>             <td>Least Squares</td>  <th>  F-statistic:       </th>          <td>   1115.</td> \n",
       "</tr>\n",
       "<tr>\n",
       "  <th>Date:</th>             <td>Wed, 15 Jun 2022</td> <th>  Prob (F-statistic):</th>          <td>4.81e-296</td>\n",
       "</tr>\n",
       "<tr>\n",
       "  <th>Time:</th>                 <td>23:31:42</td>     <th>  Log-Likelihood:    </th>          <td> -606.32</td> \n",
       "</tr>\n",
       "<tr>\n",
       "  <th>No. Observations:</th>      <td>   534</td>      <th>  AIC:               </th>          <td>   1225.</td> \n",
       "</tr>\n",
       "<tr>\n",
       "  <th>Df Residuals:</th>          <td>   528</td>      <th>  BIC:               </th>          <td>   1250.</td> \n",
       "</tr>\n",
       "<tr>\n",
       "  <th>Df Model:</th>              <td>     6</td>      <th>                     </th>              <td> </td>    \n",
       "</tr>\n",
       "<tr>\n",
       "  <th>Covariance Type:</th>      <td>nonrobust</td>    <th>                     </th>              <td> </td>    \n",
       "</tr>\n",
       "</table>\n",
       "<table class=\"simpletable\">\n",
       "<tr>\n",
       "    <td></td>       <th>coef</th>     <th>std err</th>      <th>t</th>      <th>P>|t|</th>  <th>[0.025</th>    <th>0.975]</th>  \n",
       "</tr>\n",
       "<tr>\n",
       "  <th>month</th> <td>    0.0006</td> <td>    0.015</td> <td>    0.039</td> <td> 0.969</td> <td>   -0.030</td> <td>    0.031</td>\n",
       "</tr>\n",
       "<tr>\n",
       "  <th>obp</th>   <td>    9.7901</td> <td>    1.896</td> <td>    5.163</td> <td> 0.000</td> <td>    6.065</td> <td>   13.515</td>\n",
       "</tr>\n",
       "<tr>\n",
       "  <th>slg</th>   <td>    7.5112</td> <td>    0.969</td> <td>    7.750</td> <td> 0.000</td> <td>    5.607</td> <td>    9.415</td>\n",
       "</tr>\n",
       "<tr>\n",
       "  <th>ba</th>    <td>   -3.9094</td> <td>    2.591</td> <td>   -1.509</td> <td> 0.132</td> <td>   -8.998</td> <td>    1.180</td>\n",
       "</tr>\n",
       "<tr>\n",
       "  <th>era</th>   <td>   -0.5744</td> <td>    0.046</td> <td>  -12.408</td> <td> 0.000</td> <td>   -0.665</td> <td>   -0.483</td>\n",
       "</tr>\n",
       "<tr>\n",
       "  <th>whip</th>  <td>   -0.1242</td> <td>    0.245</td> <td>   -0.506</td> <td> 0.613</td> <td>   -0.606</td> <td>    0.358</td>\n",
       "</tr>\n",
       "</table>\n",
       "<table class=\"simpletable\">\n",
       "<tr>\n",
       "  <th>Omnibus:</th>       <td> 6.748</td> <th>  Durbin-Watson:     </th> <td>   1.933</td>\n",
       "</tr>\n",
       "<tr>\n",
       "  <th>Prob(Omnibus):</th> <td> 0.034</td> <th>  Jarque-Bera (JB):  </th> <td>   7.015</td>\n",
       "</tr>\n",
       "<tr>\n",
       "  <th>Skew:</th>          <td>-0.208</td> <th>  Prob(JB):          </th> <td>  0.0300</td>\n",
       "</tr>\n",
       "<tr>\n",
       "  <th>Kurtosis:</th>      <td> 3.377</td> <th>  Cond. No.          </th> <td>    787.</td>\n",
       "</tr>\n",
       "</table><br/><br/>Notes:<br/>[1] R² is computed without centering (uncentered) since the model does not contain a constant.<br/>[2] Standard Errors assume that the covariance matrix of the errors is correctly specified."
      ],
      "text/plain": [
       "<class 'statsmodels.iolib.summary.Summary'>\n",
       "\"\"\"\n",
       "                                 OLS Regression Results                                \n",
       "=======================================================================================\n",
       "Dep. Variable:                  grade   R-squared (uncentered):                   0.927\n",
       "Model:                            OLS   Adj. R-squared (uncentered):              0.926\n",
       "Method:                 Least Squares   F-statistic:                              1115.\n",
       "Date:                Wed, 15 Jun 2022   Prob (F-statistic):                   4.81e-296\n",
       "Time:                        23:31:42   Log-Likelihood:                         -606.32\n",
       "No. Observations:                 534   AIC:                                      1225.\n",
       "Df Residuals:                     528   BIC:                                      1250.\n",
       "Df Model:                           6                                                  \n",
       "Covariance Type:            nonrobust                                                  \n",
       "==============================================================================\n",
       "                 coef    std err          t      P>|t|      [0.025      0.975]\n",
       "------------------------------------------------------------------------------\n",
       "month          0.0006      0.015      0.039      0.969      -0.030       0.031\n",
       "obp            9.7901      1.896      5.163      0.000       6.065      13.515\n",
       "slg            7.5112      0.969      7.750      0.000       5.607       9.415\n",
       "ba            -3.9094      2.591     -1.509      0.132      -8.998       1.180\n",
       "era           -0.5744      0.046    -12.408      0.000      -0.665      -0.483\n",
       "whip          -0.1242      0.245     -0.506      0.613      -0.606       0.358\n",
       "==============================================================================\n",
       "Omnibus:                        6.748   Durbin-Watson:                   1.933\n",
       "Prob(Omnibus):                  0.034   Jarque-Bera (JB):                7.015\n",
       "Skew:                          -0.208   Prob(JB):                       0.0300\n",
       "Kurtosis:                       3.377   Cond. No.                         787.\n",
       "==============================================================================\n",
       "\n",
       "Notes:\n",
       "[1] R² is computed without centering (uncentered) since the model does not contain a constant.\n",
       "[2] Standard Errors assume that the covariance matrix of the errors is correctly specified.\n",
       "\"\"\""
      ]
     },
     "execution_count": 57,
     "metadata": {},
     "output_type": "execute_result"
    }
   ],
   "source": [
    "# y=grade\n",
    "\n",
    "import statsmodels.api as sm\n",
    "\n",
    "X = bb[['month', 'obp', 'slg', 'ba', 'era', 'whip']]\n",
    "y = bb['grade']\n",
    "lm = sm.OLS(y, X).fit()\n",
    "lm.summary()"
   ]
  },
  {
   "cell_type": "code",
   "execution_count": 58,
   "metadata": {},
   "outputs": [
    {
     "data": {
      "text/html": [
       "<table class=\"simpletable\">\n",
       "<caption>OLS Regression Results</caption>\n",
       "<tr>\n",
       "  <th>Dep. Variable:</th>           <td>pov</td>       <th>  R-squared (uncentered):</th>      <td>   0.947</td>\n",
       "</tr>\n",
       "<tr>\n",
       "  <th>Model:</th>                   <td>OLS</td>       <th>  Adj. R-squared (uncentered):</th> <td>   0.947</td>\n",
       "</tr>\n",
       "<tr>\n",
       "  <th>Method:</th>             <td>Least Squares</td>  <th>  F-statistic:       </th>          <td>   1582.</td>\n",
       "</tr>\n",
       "<tr>\n",
       "  <th>Date:</th>             <td>Wed, 15 Jun 2022</td> <th>  Prob (F-statistic):</th>           <td>  0.00</td> \n",
       "</tr>\n",
       "<tr>\n",
       "  <th>Time:</th>                 <td>23:31:43</td>     <th>  Log-Likelihood:    </th>          <td>  368.24</td>\n",
       "</tr>\n",
       "<tr>\n",
       "  <th>No. Observations:</th>      <td>   534</td>      <th>  AIC:               </th>          <td>  -724.5</td>\n",
       "</tr>\n",
       "<tr>\n",
       "  <th>Df Residuals:</th>          <td>   528</td>      <th>  BIC:               </th>          <td>  -698.8</td>\n",
       "</tr>\n",
       "<tr>\n",
       "  <th>Df Model:</th>              <td>     6</td>      <th>                     </th>              <td> </td>   \n",
       "</tr>\n",
       "<tr>\n",
       "  <th>Covariance Type:</th>      <td>nonrobust</td>    <th>                     </th>              <td> </td>   \n",
       "</tr>\n",
       "</table>\n",
       "<table class=\"simpletable\">\n",
       "<tr>\n",
       "    <td></td>       <th>coef</th>     <th>std err</th>      <th>t</th>      <th>P>|t|</th>  <th>[0.025</th>    <th>0.975]</th>  \n",
       "</tr>\n",
       "<tr>\n",
       "  <th>month</th> <td>    0.0027</td> <td>    0.002</td> <td>    1.094</td> <td> 0.274</td> <td>   -0.002</td> <td>    0.008</td>\n",
       "</tr>\n",
       "<tr>\n",
       "  <th>obp</th>   <td>    2.3747</td> <td>    0.306</td> <td>    7.767</td> <td> 0.000</td> <td>    1.774</td> <td>    2.975</td>\n",
       "</tr>\n",
       "<tr>\n",
       "  <th>slg</th>   <td>    1.2894</td> <td>    0.156</td> <td>    8.252</td> <td> 0.000</td> <td>    0.982</td> <td>    1.596</td>\n",
       "</tr>\n",
       "<tr>\n",
       "  <th>ba</th>    <td>   -1.6190</td> <td>    0.418</td> <td>   -3.877</td> <td> 0.000</td> <td>   -2.439</td> <td>   -0.799</td>\n",
       "</tr>\n",
       "<tr>\n",
       "  <th>era</th>   <td>   -0.0908</td> <td>    0.007</td> <td>  -12.162</td> <td> 0.000</td> <td>   -0.105</td> <td>   -0.076</td>\n",
       "</tr>\n",
       "<tr>\n",
       "  <th>whip</th>  <td>   -0.0052</td> <td>    0.040</td> <td>   -0.132</td> <td> 0.895</td> <td>   -0.083</td> <td>    0.072</td>\n",
       "</tr>\n",
       "</table>\n",
       "<table class=\"simpletable\">\n",
       "<tr>\n",
       "  <th>Omnibus:</th>       <td>92.687</td> <th>  Durbin-Watson:     </th> <td>   1.934</td> \n",
       "</tr>\n",
       "<tr>\n",
       "  <th>Prob(Omnibus):</th> <td> 0.000</td> <th>  Jarque-Bera (JB):  </th> <td> 981.822</td> \n",
       "</tr>\n",
       "<tr>\n",
       "  <th>Skew:</th>          <td>-0.363</td> <th>  Prob(JB):          </th> <td>6.31e-214</td>\n",
       "</tr>\n",
       "<tr>\n",
       "  <th>Kurtosis:</th>      <td> 9.603</td> <th>  Cond. No.          </th> <td>    787.</td> \n",
       "</tr>\n",
       "</table><br/><br/>Notes:<br/>[1] R² is computed without centering (uncentered) since the model does not contain a constant.<br/>[2] Standard Errors assume that the covariance matrix of the errors is correctly specified."
      ],
      "text/plain": [
       "<class 'statsmodels.iolib.summary.Summary'>\n",
       "\"\"\"\n",
       "                                 OLS Regression Results                                \n",
       "=======================================================================================\n",
       "Dep. Variable:                    pov   R-squared (uncentered):                   0.947\n",
       "Model:                            OLS   Adj. R-squared (uncentered):              0.947\n",
       "Method:                 Least Squares   F-statistic:                              1582.\n",
       "Date:                Wed, 15 Jun 2022   Prob (F-statistic):                        0.00\n",
       "Time:                        23:31:43   Log-Likelihood:                          368.24\n",
       "No. Observations:                 534   AIC:                                     -724.5\n",
       "Df Residuals:                     528   BIC:                                     -698.8\n",
       "Df Model:                           6                                                  \n",
       "Covariance Type:            nonrobust                                                  \n",
       "==============================================================================\n",
       "                 coef    std err          t      P>|t|      [0.025      0.975]\n",
       "------------------------------------------------------------------------------\n",
       "month          0.0027      0.002      1.094      0.274      -0.002       0.008\n",
       "obp            2.3747      0.306      7.767      0.000       1.774       2.975\n",
       "slg            1.2894      0.156      8.252      0.000       0.982       1.596\n",
       "ba            -1.6190      0.418     -3.877      0.000      -2.439      -0.799\n",
       "era           -0.0908      0.007    -12.162      0.000      -0.105      -0.076\n",
       "whip          -0.0052      0.040     -0.132      0.895      -0.083       0.072\n",
       "==============================================================================\n",
       "Omnibus:                       92.687   Durbin-Watson:                   1.934\n",
       "Prob(Omnibus):                  0.000   Jarque-Bera (JB):              981.822\n",
       "Skew:                          -0.363   Prob(JB):                    6.31e-214\n",
       "Kurtosis:                       9.603   Cond. No.                         787.\n",
       "==============================================================================\n",
       "\n",
       "Notes:\n",
       "[1] R² is computed without centering (uncentered) since the model does not contain a constant.\n",
       "[2] Standard Errors assume that the covariance matrix of the errors is correctly specified.\n",
       "\"\"\""
      ]
     },
     "execution_count": 58,
     "metadata": {},
     "output_type": "execute_result"
    }
   ],
   "source": [
    "# y=pov\n",
    "\n",
    "X = bb[['month','obp', 'slg', 'ba', 'era', 'whip']]\n",
    "y = bb['pov']\n",
    "lm = sm.OLS(y, X).fit()\n",
    "lm.summary()"
   ]
  },
  {
   "cell_type": "markdown",
   "metadata": {},
   "source": [
    "#### OLS 2. 상수 O"
   ]
  },
  {
   "cell_type": "code",
   "execution_count": 59,
   "metadata": {},
   "outputs": [
    {
     "name": "stdout",
     "output_type": "stream",
     "text": [
      "                            OLS Regression Results                            \n",
      "==============================================================================\n",
      "Dep. Variable:                  grade   R-squared:                       0.511\n",
      "Model:                            OLS   Adj. R-squared:                  0.506\n",
      "Method:                 Least Squares   F-statistic:                     91.92\n",
      "Date:                Wed, 15 Jun 2022   Prob (F-statistic):           1.03e-78\n",
      "Time:                        23:31:44   Log-Likelihood:                -605.98\n",
      "No. Observations:                 534   AIC:                             1226.\n",
      "Df Residuals:                     527   BIC:                             1256.\n",
      "Df Model:                           6                                         \n",
      "Covariance Type:            nonrobust                                         \n",
      "==============================================================================\n",
      "                 coef    std err          t      P>|t|      [0.025      0.975]\n",
      "------------------------------------------------------------------------------\n",
      "const          0.4134      0.500      0.827      0.408      -0.568       1.395\n",
      "month         -0.0010      0.016     -0.064      0.949      -0.031       0.029\n",
      "obp            8.7736      2.260      3.882      0.000       4.334      13.213\n",
      "slg            7.5952      0.975      7.792      0.000       5.680       9.510\n",
      "ba            -3.7232      2.601     -1.431      0.153      -8.833       1.387\n",
      "era           -0.5606      0.049    -11.390      0.000      -0.657      -0.464\n",
      "whip          -0.2593      0.295     -0.880      0.380      -0.839       0.320\n",
      "==============================================================================\n",
      "Omnibus:                        6.928   Durbin-Watson:                   1.921\n",
      "Prob(Omnibus):                  0.031   Jarque-Bera (JB):                7.251\n",
      "Skew:                          -0.209   Prob(JB):                       0.0266\n",
      "Kurtosis:                       3.388   Cond. No.                         826.\n",
      "==============================================================================\n",
      "\n",
      "Notes:\n",
      "[1] Standard Errors assume that the covariance matrix of the errors is correctly specified.\n"
     ]
    }
   ],
   "source": [
    "# y=grade\n",
    "\n",
    "feature_names= ['month','obp', 'slg', 'ba', 'era','whip']\n",
    "\n",
    "#X변수 설정\n",
    "dfX0 = pd.DataFrame(bb, columns=feature_names)\n",
    "#y변수 설정\n",
    "dfy = pd.DataFrame(bb, columns=[\"grade\"] )\n",
    "#상수항 설정\n",
    "dfX = sm.add_constant(dfX0)\n",
    "\n",
    "\n",
    "model_baseball = sm.OLS(dfy, dfX)\n",
    "result_baseball_ols = model_baseball.fit()\n",
    "print(result_baseball_ols.summary())"
   ]
  },
  {
   "cell_type": "code",
   "execution_count": 60,
   "metadata": {},
   "outputs": [
    {
     "name": "stdout",
     "output_type": "stream",
     "text": [
      "                            OLS Regression Results                            \n",
      "==============================================================================\n",
      "Dep. Variable:                    pov   R-squared:                       0.506\n",
      "Model:                            OLS   Adj. R-squared:                  0.501\n",
      "Method:                 Least Squares   F-statistic:                     90.05\n",
      "Date:                Wed, 15 Jun 2022   Prob (F-statistic):           1.59e-77\n",
      "Time:                        23:31:45   Log-Likelihood:                 370.39\n",
      "No. Observations:                 534   AIC:                            -726.8\n",
      "Df Residuals:                     527   BIC:                            -696.8\n",
      "Df Model:                           6                                         \n",
      "Covariance Type:            nonrobust                                         \n",
      "==============================================================================\n",
      "                 coef    std err          t      P>|t|      [0.025      0.975]\n",
      "------------------------------------------------------------------------------\n",
      "const          0.1658      0.080      2.065      0.039       0.008       0.323\n",
      "month          0.0021      0.002      0.831      0.406      -0.003       0.007\n",
      "obp            1.9670      0.363      5.417      0.000       1.254       2.680\n",
      "slg            1.3230      0.157      8.448      0.000       1.015       1.631\n",
      "ba            -1.5444      0.418     -3.695      0.000      -2.365      -0.723\n",
      "era           -0.0852      0.008    -10.777      0.000      -0.101      -0.070\n",
      "whip          -0.0594      0.047     -1.255      0.210      -0.153       0.034\n",
      "==============================================================================\n",
      "Omnibus:                       97.269   Durbin-Watson:                   1.915\n",
      "Prob(Omnibus):                  0.000   Jarque-Bera (JB):              984.011\n",
      "Skew:                          -0.436   Prob(JB):                    2.11e-214\n",
      "Kurtosis:                       9.593   Cond. No.                         826.\n",
      "==============================================================================\n",
      "\n",
      "Notes:\n",
      "[1] Standard Errors assume that the covariance matrix of the errors is correctly specified.\n"
     ]
    }
   ],
   "source": [
    "# y=pov\n",
    "\n",
    "feature_names= ['month','obp', 'slg', 'ba', 'era','whip']\n",
    "\n",
    "#X변수 설정\n",
    "dfX0 = pd.DataFrame(bb, columns=feature_names)\n",
    "#y변수 설정\n",
    "dfy = pd.DataFrame(bb, columns=[\"pov\"] )\n",
    "#상수항 설정\n",
    "dfX = sm.add_constant(dfX0)\n",
    "\n",
    "\n",
    "model_baseball = sm.OLS(dfy, dfX)\n",
    "result_baseball_ols = model_baseball.fit()\n",
    "print(result_baseball_ols.summary())"
   ]
  },
  {
   "cell_type": "markdown",
   "metadata": {},
   "source": [
    "#### OLS 3. 비교\n",
    "* 상수 없음\n",
    "  - grade : R-Squared : 0.927 / AIC : 1225.\n",
    "  - pov : R-Squared : 0.947 /AIC : -724.5\n",
    "* 상수 있음\n",
    "  - grade : R-Squared : 0.511 / AIC : 1226.\n",
    "  - pov : R-Squared : 0.506 /AIC : -726.8"
   ]
  },
  {
   "cell_type": "markdown",
   "metadata": {},
   "source": [
    "### Decision Tree"
   ]
  },
  {
   "cell_type": "code",
   "execution_count": 61,
   "metadata": {},
   "outputs": [],
   "source": [
    "from sklearn.model_selection import train_test_split\n",
    "from sklearn.tree import DecisionTreeClassifier\n",
    "from sklearn.metrics import accuracy_score"
   ]
  },
  {
   "cell_type": "markdown",
   "metadata": {},
   "source": [
    "#### Test Size 1. 0.2"
   ]
  },
  {
   "cell_type": "code",
   "execution_count": 62,
   "metadata": {},
   "outputs": [
    {
     "name": "stdout",
     "output_type": "stream",
     "text": [
      "Train Acc :  0.7822014051522248\n",
      "Test Acc :  0.5327102803738317\n"
     ]
    }
   ],
   "source": [
    "X=bb[['month','obp', 'slg', 'ba', 'era','whip']]\n",
    "y=bb['grade']\n",
    "\n",
    "X_train, X_test, y_train, y_test=train_test_split(X, y, test_size=0.2, random_state=13, stratify=y)\n",
    "\n",
    "cc = DecisionTreeClassifier(max_depth=7, random_state=13)\n",
    "cc.fit(X_train, y_train)\n",
    "\n",
    "y_pred_tr = cc.predict(X_train)\n",
    "y_pred_test = cc.predict(X_test)\n",
    "\n",
    "\n",
    "print('Train Acc : ', accuracy_score(y_train, y_pred_tr))\n",
    "print('Test Acc : ', accuracy_score(y_test, y_pred_test))"
   ]
  },
  {
   "cell_type": "markdown",
   "metadata": {},
   "source": [
    "#### Test Size 2. 0.3"
   ]
  },
  {
   "cell_type": "code",
   "execution_count": 63,
   "metadata": {},
   "outputs": [
    {
     "name": "stdout",
     "output_type": "stream",
     "text": [
      "Train Acc :  0.8123324396782842\n",
      "Test Acc :  0.5403726708074534\n"
     ]
    }
   ],
   "source": [
    "X=bb[['month','obp', 'slg', 'ba', 'era','whip']]\n",
    "y=bb['grade']\n",
    "\n",
    "X_train, X_test, y_train, y_test=train_test_split(X, y, test_size=0.3, random_state=13, stratify=y)\n",
    "\n",
    "cc = DecisionTreeClassifier(max_depth=7, random_state=13)\n",
    "cc.fit(X_train, y_train)\n",
    "\n",
    "y_pred_tr = cc.predict(X_train)\n",
    "y_pred_test = cc.predict(X_test)\n",
    "\n",
    "\n",
    "print('Train Acc : ', accuracy_score(y_train, y_pred_tr))\n",
    "print('Test Acc : ', accuracy_score(y_test, y_pred_test))"
   ]
  },
  {
   "cell_type": "markdown",
   "metadata": {},
   "source": [
    "#### Test size 3. 비교 (max_depth=7)\n",
    "* 0.2 \n",
    "  - Train Acc :  0.7822014051522248\n",
    "  - Test Acc :  0.5327102803738317\n",
    "* 0.3\n",
    "  - Train Acc :  0.8123324396782842\n",
    "  - Test Acc :  0.5403726708074534"
   ]
  },
  {
   "cell_type": "markdown",
   "metadata": {},
   "source": [
    "#### Best max_depth"
   ]
  },
  {
   "cell_type": "code",
   "execution_count": 64,
   "metadata": {},
   "outputs": [
    {
     "data": {
      "text/plain": [
       "GridSearchCV(cv=5, estimator=DecisionTreeClassifier(random_state=13),\n",
       "             param_grid={'max_depth': [1, 2, 3, 4, 5, 6, 7, 8, 9, 10, 11, 12,\n",
       "                                       13, 14, 15]})"
      ]
     },
     "execution_count": 64,
     "metadata": {},
     "output_type": "execute_result"
    }
   ],
   "source": [
    "from sklearn.model_selection import GridSearchCV\n",
    "import pprint\n",
    "\n",
    "params={'max_depth' : [1, 2, 3, 4, 5, 6, 7, 8, 9, 10, 11, 12, 13, 14, 15]}\n",
    "baseball=DecisionTreeClassifier(random_state=13)\n",
    "\n",
    "gridsearch=GridSearchCV(estimator=baseball, param_grid=params, cv=5)\n",
    "gridsearch.fit(X, y)"
   ]
  },
  {
   "cell_type": "code",
   "execution_count": 65,
   "metadata": {},
   "outputs": [
    {
     "name": "stdout",
     "output_type": "stream",
     "text": [
      "{   'mean_fit_time': array([0.00819745, 0.03659186, 0.01539392, 0.02219248, 0.03298721,\n",
      "       0.03978596, 0.0145936 , 0.01679544, 0.01870718, 0.01739302,\n",
      "       0.01779351, 0.01759257, 0.01419244, 0.01279564, 0.01339531]),\n",
      "    'mean_score_time': array([0.00419827, 0.01019416, 0.01159697, 0.01219754, 0.01859651,\n",
      "       0.00559888, 0.0095973 , 0.00859771, 0.01039877, 0.01119699,\n",
      "       0.00559878, 0.00639968, 0.00679874, 0.00339971, 0.00639701]),\n",
      "    'mean_test_score': array([0.35009698, 0.38950802, 0.43627226, 0.45688591, 0.43815905,\n",
      "       0.46247575, 0.48310704, 0.4586669 , 0.45127843, 0.4661788 ,\n",
      "       0.43995768, 0.46247575, 0.45501675, 0.45681538, 0.45681538]),\n",
      "    'param_max_depth': masked_array(data=[1, 2, 3, 4, 5, 6, 7, 8, 9, 10, 11, 12, 13, 14, 15],\n",
      "             mask=[False, False, False, False, False, False, False, False,\n",
      "                   False, False, False, False, False, False, False],\n",
      "       fill_value='?',\n",
      "            dtype=object),\n",
      "    'params': [   {'max_depth': 1},\n",
      "                  {'max_depth': 2},\n",
      "                  {'max_depth': 3},\n",
      "                  {'max_depth': 4},\n",
      "                  {'max_depth': 5},\n",
      "                  {'max_depth': 6},\n",
      "                  {'max_depth': 7},\n",
      "                  {'max_depth': 8},\n",
      "                  {'max_depth': 9},\n",
      "                  {'max_depth': 10},\n",
      "                  {'max_depth': 11},\n",
      "                  {'max_depth': 12},\n",
      "                  {'max_depth': 13},\n",
      "                  {'max_depth': 14},\n",
      "                  {'max_depth': 15}],\n",
      "    'rank_test_score': array([15, 14, 13,  6, 12,  4,  1,  5, 10,  2, 11,  3,  9,  7,  7]),\n",
      "    'split0_test_score': array([0.30841121, 0.40186916, 0.40186916, 0.40186916, 0.40186916,\n",
      "       0.43925234, 0.42056075, 0.43925234, 0.40186916, 0.42990654,\n",
      "       0.39252336, 0.43925234, 0.38317757, 0.42056075, 0.42056075]),\n",
      "    'split1_test_score': array([0.38317757, 0.38317757, 0.46728972, 0.43925234, 0.41121495,\n",
      "       0.46728972, 0.54205607, 0.51401869, 0.47663551, 0.5046729 ,\n",
      "       0.51401869, 0.4953271 , 0.5046729 , 0.51401869, 0.51401869]),\n",
      "    'split2_test_score': array([0.36448598, 0.37383178, 0.42056075, 0.5046729 , 0.48598131,\n",
      "       0.52336449, 0.55140187, 0.5046729 , 0.45794393, 0.53271028,\n",
      "       0.45794393, 0.4953271 , 0.4953271 , 0.4953271 , 0.4953271 ]),\n",
      "    'split3_test_score': array([0.39252336, 0.40186916, 0.48598131, 0.5046729 , 0.47663551,\n",
      "       0.45794393, 0.43925234, 0.44859813, 0.48598131, 0.45794393,\n",
      "       0.45794393, 0.45794393, 0.45794393, 0.45794393, 0.45794393]),\n",
      "    'split4_test_score': array([0.30188679, 0.38679245, 0.40566038, 0.43396226, 0.41509434,\n",
      "       0.4245283 , 0.46226415, 0.38679245, 0.43396226, 0.40566038,\n",
      "       0.37735849, 0.4245283 , 0.43396226, 0.39622642, 0.39622642]),\n",
      "    'std_fit_time': array([0.00239906, 0.02990396, 0.00902111, 0.02495855, 0.04304518,\n",
      "       0.0355383 , 0.00343804, 0.00563468, 0.00825229, 0.00436308,\n",
      "       0.00534369, 0.00349828, 0.00396952, 0.00318621, 0.00205975]),\n",
      "    'std_score_time': array([0.00039795, 0.00729978, 0.01471316, 0.01449224, 0.02477525,\n",
      "       0.00101894, 0.00449714, 0.00531223, 0.00454387, 0.00610937,\n",
      "       0.00135697, 0.00119995, 0.00278457, 0.00049019, 0.00286956]),\n",
      "    'std_test_score': array([0.03785047, 0.01094339, 0.03406049, 0.04106208, 0.03561552,\n",
      "       0.03385406, 0.05368216, 0.04652873, 0.03043953, 0.04680642,\n",
      "       0.04959983, 0.0288385 , 0.04405312, 0.04414083, 0.04414083])}\n"
     ]
    }
   ],
   "source": [
    "pp=pprint.PrettyPrinter(indent=4)\n",
    "pp.pprint(gridsearch.cv_results_) "
   ]
  },
  {
   "cell_type": "code",
   "execution_count": 66,
   "metadata": {},
   "outputs": [
    {
     "data": {
      "text/plain": [
       "DecisionTreeClassifier(max_depth=7, random_state=13)"
      ]
     },
     "execution_count": 66,
     "metadata": {},
     "output_type": "execute_result"
    }
   ],
   "source": [
    "gridsearch.best_estimator_"
   ]
  },
  {
   "cell_type": "markdown",
   "metadata": {},
   "source": [
    "* best_estimator: max_depth=7로 확인"
   ]
  },
  {
   "cell_type": "markdown",
   "metadata": {},
   "source": [
    "#### Score"
   ]
  },
  {
   "cell_type": "code",
   "execution_count": 67,
   "metadata": {},
   "outputs": [],
   "source": [
    "# 분류기 성능 return 하는 함수\n",
    "from sklearn.metrics import (accuracy_score, precision_score, recall_score, f1_score, roc_auc_score)\n",
    "\n",
    "def get_clf_eval_m(y_test, pred):\n",
    "    acc=accuracy_score(y_test, pred)\n",
    "    pre=precision_score(y_test, pred, average='micro')\n",
    "    re=recall_score(y_test, pred, average='micro')\n",
    "    f1=f1_score(y_test, pred, average='micro')\n",
    "    pred_proba=cc.predict_proba(X_test)\n",
    "    auc=roc_auc_score(y_test, pred_proba, multi_class='ovr')\n",
    "    \n",
    "    return acc, pre, re, f1, auc"
   ]
  },
  {
   "cell_type": "code",
   "execution_count": 68,
   "metadata": {},
   "outputs": [],
   "source": [
    "# 분류기 성능 return 하는 함수\n",
    "from sklearn.metrics import (accuracy_score, precision_score, recall_score, f1_score, roc_auc_score)\n",
    "\n",
    "def get_clf_eval_w(y_test, pred):\n",
    "    acc=accuracy_score(y_test, pred)\n",
    "    pre=precision_score(y_test, pred, average='weighted')\n",
    "    re=recall_score(y_test, pred, average='weighted')\n",
    "    f1=f1_score(y_test, pred, average='weighted')\n",
    "    pred_proba=cc.predict_proba(X_test)\n",
    "    auc=roc_auc_score(y_test, pred_proba, multi_class='ovr')\n",
    "    \n",
    "    return acc, pre, re, f1, auc"
   ]
  },
  {
   "cell_type": "code",
   "execution_count": 69,
   "metadata": {},
   "outputs": [],
   "source": [
    "from sklearn.metrics import confusion_matrix\n",
    "\n",
    "def print_clf_eval_m(y_test, pred):\n",
    "    confusion = confusion_matrix(y_test,pred)\n",
    "    acc, pre, re, f1, auc = get_clf_eval_m(y_test, pred)\n",
    "\n",
    "    print('=> confusion matrix')\n",
    "    print(confusion)\n",
    "    print('=========')\n",
    "\n",
    "    print('Accuracy: {0:.4f}, Precision: {1:.4f}'.format(acc,pre))\n",
    "    print('Recall: {0:.4f},  F1_1: {1:.4f}, AUC:{2:.4f}'.format(re, f1, auc))"
   ]
  },
  {
   "cell_type": "code",
   "execution_count": 70,
   "metadata": {},
   "outputs": [],
   "source": [
    "from sklearn.metrics import confusion_matrix\n",
    "\n",
    "def print_clf_eval_w(y_test, pred):\n",
    "    confusion = confusion_matrix(y_test,pred)\n",
    "    acc, pre, re, f1, auc = get_clf_eval_w(y_test, pred)\n",
    "\n",
    "    print('=> confusion matrix')\n",
    "    print(confusion)\n",
    "    print('=========')\n",
    "\n",
    "    print('Accuracy: {0:.4f}, Precision: {1:.4f}'.format(acc,pre))\n",
    "    print('Recall: {0:.4f},  F1_1: {1:.4f}, AUC:{2:.4f}'.format(re, f1, auc))"
   ]
  },
  {
   "cell_type": "code",
   "execution_count": 71,
   "metadata": {},
   "outputs": [
    {
     "name": "stdout",
     "output_type": "stream",
     "text": [
      "average=micro:\n",
      "=> confusion matrix\n",
      "[[19 11  4  1]\n",
      " [11 17  9  1]\n",
      " [ 7  5 34  4]\n",
      " [ 1  4 16 17]]\n",
      "=========\n",
      "Accuracy: 0.5404, Precision: 0.5404\n",
      "Recall: 0.5404,  F1_1: 0.5404, AUC:0.7234\n",
      "==========================================\n",
      "average=weighted:\n",
      "=> confusion matrix\n",
      "[[19 11  4  1]\n",
      " [11 17  9  1]\n",
      " [ 7  5 34  4]\n",
      " [ 1  4 16 17]]\n",
      "=========\n",
      "Accuracy: 0.5404, Precision: 0.5592\n",
      "Recall: 0.5404,  F1_1: 0.5386, AUC:0.7234\n"
     ]
    },
    {
     "data": {
      "text/plain": [
       "(None, None)"
      ]
     },
     "execution_count": 71,
     "metadata": {},
     "output_type": "execute_result"
    }
   ],
   "source": [
    "print('average=micro:'), print_clf_eval_m(y_test, y_pred_test),\n",
    "print('=========================================='),\n",
    "print('average=weighted:'), print_clf_eval_w(y_test, y_pred_test)"
   ]
  },
  {
   "cell_type": "markdown",
   "metadata": {},
   "source": [
    "#### Classification report"
   ]
  },
  {
   "cell_type": "code",
   "execution_count": 72,
   "metadata": {},
   "outputs": [
    {
     "name": "stderr",
     "output_type": "stream",
     "text": [
      "c:\\Users\\ju-ye\\miniconda3\\envs\\ds_study\\lib\\site-packages\\seaborn\\_decorators.py:36: FutureWarning: Pass the following variable as a keyword arg: x. From version 0.12, the only valid positional argument will be `data`, and passing other arguments without an explicit keyword will result in an error or misinterpretation.\n",
      "  warnings.warn(\n"
     ]
    },
    {
     "data": {
      "image/png": "[encoded data removed]",
      "text/plain": [
       "<Figure size 1296x576 with 2 Axes>"
      ]
     },
     "metadata": {
      "needs_background": "light"
     },
     "output_type": "display_data"
    }
   ],
   "source": [
    "# 등급별로 얼마나 있는지 비율 확인\n",
    "\n",
    "f, ax = plt.subplots(1, 2, figsize=(18, 8))\n",
    "\n",
    "bb['grade'].value_counts().plot.pie(autopct='%1.1f%%', ax=ax[0], shadow=True)\n",
    "ax[0].set_title('Pie plot - Grade')\n",
    "ax[0].set_ylabel('')\n",
    "sns.countplot('grade', data=bb, ax=ax[1])\n",
    "ax[1].set_title('Count plot - Grade')\n",
    "\n",
    "plt.show();"
   ]
  },
  {
   "cell_type": "code",
   "execution_count": 73,
   "metadata": {},
   "outputs": [
    {
     "name": "stdout",
     "output_type": "stream",
     "text": [
      "              precision    recall  f1-score   support\n",
      "\n",
      "           1       0.50      0.54      0.52        35\n",
      "           2       0.46      0.45      0.45        38\n",
      "           3       0.54      0.68      0.60        50\n",
      "           4       0.74      0.45      0.56        38\n",
      "\n",
      "    accuracy                           0.54       161\n",
      "   macro avg       0.56      0.53      0.53       161\n",
      "weighted avg       0.56      0.54      0.54       161\n",
      "\n"
     ]
    }
   ],
   "source": [
    "from sklearn.metrics import classification_report\n",
    "print(classification_report(y_test, y_pred_test))"
   ]
  },
  {
   "cell_type": "code",
   "execution_count": 74,
   "metadata": {},
   "outputs": [
    {
     "name": "stdout",
     "output_type": "stream",
     "text": [
      "0.21739130434782608\n",
      "0.2360248447204969\n",
      "0.3105590062111801\n",
      "0.2360248447204969\n"
     ]
    },
    {
     "data": {
      "text/plain": [
       "(None, None, None, None)"
      ]
     },
     "execution_count": 74,
     "metadata": {},
     "output_type": "execute_result"
    }
   ],
   "source": [
    "# 21.9 : 23.2 : 31.1 : 23.8\n",
    "print(35/161), print(38/161), print(50/161), print(38/161)"
   ]
  },
  {
   "cell_type": "markdown",
   "metadata": {},
   "source": [
    "* 비교: 실제 비율(21.9 : 23.2 : 31.1 : 23.8) 과 유사함"
   ]
  },
  {
   "cell_type": "markdown",
   "metadata": {},
   "source": [
    "### 2022년 6월 13일 기준 data와 비교"
   ]
  },
  {
   "cell_type": "code",
   "execution_count": 75,
   "metadata": {},
   "outputs": [
    {
     "data": {
      "text/html": [
       "<div>\n",
       "<style scoped>\n",
       "    .dataframe tbody tr th:only-of-type {\n",
       "        vertical-align: middle;\n",
       "    }\n",
       "\n",
       "    .dataframe tbody tr th {\n",
       "        vertical-align: top;\n",
       "    }\n",
       "\n",
       "    .dataframe thead th {\n",
       "        text-align: right;\n",
       "    }\n",
       "</style>\n",
       "<table border=\"1\" class=\"dataframe\">\n",
       "  <thead>\n",
       "    <tr style=\"text-align: right;\">\n",
       "      <th></th>\n",
       "      <th>team</th>\n",
       "      <th>OBP</th>\n",
       "      <th>SLG</th>\n",
       "      <th>BA</th>\n",
       "      <th>ERA</th>\n",
       "      <th>WHIP</th>\n",
       "      <th>POV</th>\n",
       "      <th>이름</th>\n",
       "    </tr>\n",
       "  </thead>\n",
       "  <tbody>\n",
       "    <tr>\n",
       "      <th>3</th>\n",
       "      <td>6</td>\n",
       "      <td>0.330</td>\n",
       "      <td>0.370</td>\n",
       "      <td>0.249</td>\n",
       "      <td>3.56</td>\n",
       "      <td>1.21</td>\n",
       "      <td>0.661</td>\n",
       "      <td>ssg</td>\n",
       "    </tr>\n",
       "    <tr>\n",
       "      <th>2</th>\n",
       "      <td>5</td>\n",
       "      <td>0.326</td>\n",
       "      <td>0.365</td>\n",
       "      <td>0.246</td>\n",
       "      <td>3.49</td>\n",
       "      <td>1.26</td>\n",
       "      <td>0.600</td>\n",
       "      <td>키움</td>\n",
       "    </tr>\n",
       "    <tr>\n",
       "      <th>1</th>\n",
       "      <td>4</td>\n",
       "      <td>0.340</td>\n",
       "      <td>0.392</td>\n",
       "      <td>0.264</td>\n",
       "      <td>3.78</td>\n",
       "      <td>1.36</td>\n",
       "      <td>0.567</td>\n",
       "      <td>lg</td>\n",
       "    </tr>\n",
       "    <tr>\n",
       "      <th>0</th>\n",
       "      <td>9</td>\n",
       "      <td>0.350</td>\n",
       "      <td>0.409</td>\n",
       "      <td>0.269</td>\n",
       "      <td>4.03</td>\n",
       "      <td>1.34</td>\n",
       "      <td>0.542</td>\n",
       "      <td>기아</td>\n",
       "    </tr>\n",
       "    <tr>\n",
       "      <th>4</th>\n",
       "      <td>2</td>\n",
       "      <td>0.331</td>\n",
       "      <td>0.357</td>\n",
       "      <td>0.256</td>\n",
       "      <td>4.12</td>\n",
       "      <td>1.42</td>\n",
       "      <td>0.483</td>\n",
       "      <td>두산</td>\n",
       "    </tr>\n",
       "    <tr>\n",
       "      <th>7</th>\n",
       "      <td>3</td>\n",
       "      <td>0.321</td>\n",
       "      <td>0.365</td>\n",
       "      <td>0.260</td>\n",
       "      <td>3.86</td>\n",
       "      <td>1.39</td>\n",
       "      <td>0.483</td>\n",
       "      <td>삼성</td>\n",
       "    </tr>\n",
       "    <tr>\n",
       "      <th>5</th>\n",
       "      <td>1</td>\n",
       "      <td>0.326</td>\n",
       "      <td>0.352</td>\n",
       "      <td>0.247</td>\n",
       "      <td>3.58</td>\n",
       "      <td>1.24</td>\n",
       "      <td>0.475</td>\n",
       "      <td>kt</td>\n",
       "    </tr>\n",
       "    <tr>\n",
       "      <th>9</th>\n",
       "      <td>8</td>\n",
       "      <td>0.313</td>\n",
       "      <td>0.366</td>\n",
       "      <td>0.254</td>\n",
       "      <td>4.03</td>\n",
       "      <td>1.36</td>\n",
       "      <td>0.448</td>\n",
       "      <td>롯데</td>\n",
       "    </tr>\n",
       "    <tr>\n",
       "      <th>6</th>\n",
       "      <td>7</td>\n",
       "      <td>0.320</td>\n",
       "      <td>0.363</td>\n",
       "      <td>0.248</td>\n",
       "      <td>3.85</td>\n",
       "      <td>1.36</td>\n",
       "      <td>0.383</td>\n",
       "      <td>nc</td>\n",
       "    </tr>\n",
       "    <tr>\n",
       "      <th>8</th>\n",
       "      <td>10</td>\n",
       "      <td>0.317</td>\n",
       "      <td>0.355</td>\n",
       "      <td>0.242</td>\n",
       "      <td>5.30</td>\n",
       "      <td>1.53</td>\n",
       "      <td>0.361</td>\n",
       "      <td>한화</td>\n",
       "    </tr>\n",
       "  </tbody>\n",
       "</table>\n",
       "</div>"
      ],
      "text/plain": [
       "   team    OBP    SLG     BA   ERA  WHIP    POV   이름\n",
       "3     6  0.330  0.370  0.249  3.56  1.21  0.661  ssg\n",
       "2     5  0.326  0.365  0.246  3.49  1.26  0.600   키움\n",
       "1     4  0.340  0.392  0.264  3.78  1.36  0.567   lg\n",
       "0     9  0.350  0.409  0.269  4.03  1.34  0.542   기아\n",
       "4     2  0.331  0.357  0.256  4.12  1.42  0.483   두산\n",
       "7     3  0.321  0.365  0.260  3.86  1.39  0.483   삼성\n",
       "5     1  0.326  0.352  0.247  3.58  1.24  0.475   kt\n",
       "9     8  0.313  0.366  0.254  4.03  1.36  0.448   롯데\n",
       "6     7  0.320  0.363  0.248  3.85  1.36  0.383   nc\n",
       "8    10  0.317  0.355  0.242  5.30  1.53  0.361   한화"
      ]
     },
     "execution_count": 75,
     "metadata": {},
     "output_type": "execute_result"
    }
   ],
   "source": [
    "month6=pd.read_csv('2022yearcumul01.csv')\n",
    "month6.sort_values(by=['POV'], ascending=False)"
   ]
  },
  {
   "cell_type": "code",
   "execution_count": 76,
   "metadata": {},
   "outputs": [],
   "source": [
    "ssg=np.array([[6, 0.330,\t0.370,\t0.249,\t3.56,\t1.21]])\n",
    "kium=np.array([[6, 0.326,\t0.365,\t0.246,\t3.49,\t1.26]])\n",
    "lg=np.array([[6, 0.340,\t0.392,\t0.264,\t3.78,\t1.36]]) \n",
    "kia=np.array([[6, 0.350,\t0.409,\t0.269,\t4.03,\t1.34]]) \n",
    "dusan=np.array([[6, 0.331,\t0.357,\t0.256,\t4.12,\t1.42]])\n",
    "samsung=np.array([[6, 0.321,\t0.365,\t0.260,\t3.86,\t1.39]])\n",
    "kt=np.array([[6, 0.326,\t0.352,\t0.247,\t3.58,\t1.24]])\n",
    "lotte=np.array([[6, 0.313,\t0.366,\t0.254,\t4.03,\t1.36]])\n",
    "nc=np.array([[6, 0.320,\t0.363,\t0.248,\t3.85,\t1.36]])\n",
    "hanhwa=np.array([[6, 0.317,\t0.355,\t0.242,\t5.30,\t1.53]])"
   ]
  },
  {
   "cell_type": "markdown",
   "metadata": {},
   "source": [
    "#### 예측 값"
   ]
  },
  {
   "cell_type": "code",
   "execution_count": 77,
   "metadata": {},
   "outputs": [
    {
     "name": "stdout",
     "output_type": "stream",
     "text": [
      "1. ssg :  [3]\n",
      "2. kium : [3]\n",
      "3. lg :  [3]\n",
      "4. kia :  [3]\n",
      "5. dusan :  [3]\n",
      "6. samsung :  [3]\n",
      "7. kt : [3]\n",
      "8. lotte:  [2]\n",
      "9. nc : [3]\n",
      "10. hanhwa : [1]\n"
     ]
    },
    {
     "name": "stderr",
     "output_type": "stream",
     "text": [
      "c:\\Users\\ju-ye\\miniconda3\\envs\\ds_study\\lib\\site-packages\\sklearn\\base.py:450: UserWarning: X does not have valid feature names, but DecisionTreeClassifier was fitted with feature names\n",
      "  warnings.warn(\n",
      "c:\\Users\\ju-ye\\miniconda3\\envs\\ds_study\\lib\\site-packages\\sklearn\\base.py:450: UserWarning: X does not have valid feature names, but DecisionTreeClassifier was fitted with feature names\n",
      "  warnings.warn(\n",
      "c:\\Users\\ju-ye\\miniconda3\\envs\\ds_study\\lib\\site-packages\\sklearn\\base.py:450: UserWarning: X does not have valid feature names, but DecisionTreeClassifier was fitted with feature names\n",
      "  warnings.warn(\n",
      "c:\\Users\\ju-ye\\miniconda3\\envs\\ds_study\\lib\\site-packages\\sklearn\\base.py:450: UserWarning: X does not have valid feature names, but DecisionTreeClassifier was fitted with feature names\n",
      "  warnings.warn(\n",
      "c:\\Users\\ju-ye\\miniconda3\\envs\\ds_study\\lib\\site-packages\\sklearn\\base.py:450: UserWarning: X does not have valid feature names, but DecisionTreeClassifier was fitted with feature names\n",
      "  warnings.warn(\n",
      "c:\\Users\\ju-ye\\miniconda3\\envs\\ds_study\\lib\\site-packages\\sklearn\\base.py:450: UserWarning: X does not have valid feature names, but DecisionTreeClassifier was fitted with feature names\n",
      "  warnings.warn(\n",
      "c:\\Users\\ju-ye\\miniconda3\\envs\\ds_study\\lib\\site-packages\\sklearn\\base.py:450: UserWarning: X does not have valid feature names, but DecisionTreeClassifier was fitted with feature names\n",
      "  warnings.warn(\n",
      "c:\\Users\\ju-ye\\miniconda3\\envs\\ds_study\\lib\\site-packages\\sklearn\\base.py:450: UserWarning: X does not have valid feature names, but DecisionTreeClassifier was fitted with feature names\n",
      "  warnings.warn(\n",
      "c:\\Users\\ju-ye\\miniconda3\\envs\\ds_study\\lib\\site-packages\\sklearn\\base.py:450: UserWarning: X does not have valid feature names, but DecisionTreeClassifier was fitted with feature names\n",
      "  warnings.warn(\n",
      "c:\\Users\\ju-ye\\miniconda3\\envs\\ds_study\\lib\\site-packages\\sklearn\\base.py:450: UserWarning: X does not have valid feature names, but DecisionTreeClassifier was fitted with feature names\n",
      "  warnings.warn(\n"
     ]
    }
   ],
   "source": [
    "print('1. ssg : ', cc.predict(ssg)),\n",
    "print('2. kium :', cc.predict(kium)),\n",
    "print('3. lg : ', cc.predict(lg)),\n",
    "print('4. kia : ', cc.predict(kia)), \n",
    "print('5. dusan : ', cc.predict(dusan)),\n",
    "print('6. samsung : ', cc.predict(samsung)), \n",
    "print('7. kt :', cc.predict(kt)), \n",
    "print('8. lotte: ', cc.predict(lotte)), \n",
    "print('9. nc :', cc.predict(nc)), \n",
    "print('10. hanhwa :', cc.predict(hanhwa))"
   ]
  },
  {
   "cell_type": "code",
   "execution_count": 78,
   "metadata": {},
   "outputs": [
    {
     "data": {
      "text/plain": [
       "array([[0.5       , 0.        , 0.5       , 0.        ],\n",
       "       [0.8       , 0.        , 0.2       , 0.        ],\n",
       "       [0.        , 0.        , 0.        , 1.        ],\n",
       "       [0.8       , 0.        , 0.2       , 0.        ],\n",
       "       [0.        , 1.        , 0.        , 0.        ],\n",
       "       [0.        , 0.        , 1.        , 0.        ],\n",
       "       [0.        , 0.        , 0.        , 1.        ],\n",
       "       [0.04      , 0.24      , 0.6       , 0.12      ],\n",
       "       [1.        , 0.        , 0.        , 0.        ],\n",
       "       [0.        , 0.        , 0.        , 1.        ],\n",
       "       [0.        , 0.        , 1.        , 0.        ],\n",
       "       [0.        , 0.        , 0.66666667, 0.33333333],\n",
       "       [0.04      , 0.24      , 0.6       , 0.12      ],\n",
       "       [0.        , 0.        , 0.        , 1.        ],\n",
       "       [0.        , 0.        , 0.        , 1.        ],\n",
       "       [0.11111111, 0.88888889, 0.        , 0.        ],\n",
       "       [0.        , 0.90909091, 0.        , 0.09090909],\n",
       "       [1.        , 0.        , 0.        , 0.        ],\n",
       "       [0.        , 0.        , 0.        , 1.        ],\n",
       "       [0.        , 0.33333333, 0.66666667, 0.        ],\n",
       "       [0.        , 0.        , 0.61111111, 0.38888889],\n",
       "       [0.08      , 0.28      , 0.6       , 0.04      ],\n",
       "       [0.        , 1.        , 0.        , 0.        ],\n",
       "       [0.        , 0.91666667, 0.08333333, 0.        ],\n",
       "       [0.        , 0.        , 0.61111111, 0.38888889],\n",
       "       [0.        , 0.        , 0.        , 1.        ],\n",
       "       [0.        , 0.91666667, 0.08333333, 0.        ],\n",
       "       [1.        , 0.        , 0.        , 0.        ],\n",
       "       [0.        , 1.        , 0.        , 0.        ],\n",
       "       [1.        , 0.        , 0.        , 0.        ],\n",
       "       [0.        , 0.        , 0.61111111, 0.38888889],\n",
       "       [0.8       , 0.        , 0.2       , 0.        ],\n",
       "       [0.        , 0.90909091, 0.        , 0.09090909],\n",
       "       [0.        , 0.        , 0.61111111, 0.38888889],\n",
       "       [1.        , 0.        , 0.        , 0.        ],\n",
       "       [1.        , 0.        , 0.        , 0.        ],\n",
       "       [0.04      , 0.24      , 0.6       , 0.12      ],\n",
       "       [1.        , 0.        , 0.        , 0.        ],\n",
       "       [0.        , 0.76923077, 0.07692308, 0.15384615],\n",
       "       [0.8       , 0.        , 0.2       , 0.        ],\n",
       "       [1.        , 0.        , 0.        , 0.        ],\n",
       "       [0.0625    , 0.        , 0.875     , 0.0625    ],\n",
       "       [0.8       , 0.        , 0.2       , 0.        ],\n",
       "       [1.        , 0.        , 0.        , 0.        ],\n",
       "       [0.        , 0.90909091, 0.        , 0.09090909],\n",
       "       [0.0625    , 0.        , 0.875     , 0.0625    ],\n",
       "       [0.0625    , 0.        , 0.875     , 0.0625    ],\n",
       "       [0.        , 0.91666667, 0.08333333, 0.        ],\n",
       "       [0.        , 0.33333333, 0.66666667, 0.        ],\n",
       "       [0.0625    , 0.        , 0.875     , 0.0625    ],\n",
       "       [0.08      , 0.28      , 0.6       , 0.04      ],\n",
       "       [0.        , 0.        , 1.        , 0.        ],\n",
       "       [0.        , 0.        , 0.        , 1.        ],\n",
       "       [0.        , 0.76923077, 0.07692308, 0.15384615],\n",
       "       [0.0625    , 0.        , 0.875     , 0.0625    ],\n",
       "       [0.        , 0.        , 0.61111111, 0.38888889],\n",
       "       [0.        , 0.05263158, 0.47368421, 0.47368421],\n",
       "       [0.        , 0.        , 0.        , 1.        ],\n",
       "       [0.        , 0.        , 0.        , 1.        ],\n",
       "       [0.        , 0.        , 0.5       , 0.5       ],\n",
       "       [0.08      , 0.28      , 0.6       , 0.04      ],\n",
       "       [0.08      , 0.28      , 0.6       , 0.04      ],\n",
       "       [0.0625    , 0.        , 0.875     , 0.0625    ],\n",
       "       [0.        , 0.05263158, 0.47368421, 0.47368421],\n",
       "       [0.        , 0.05263158, 0.47368421, 0.47368421],\n",
       "       [0.        , 0.        , 0.66666667, 0.33333333],\n",
       "       [0.        , 0.        , 0.        , 1.        ],\n",
       "       [0.        , 0.        , 0.5       , 0.5       ],\n",
       "       [0.        , 0.        , 1.        , 0.        ],\n",
       "       [0.04      , 0.24      , 0.6       , 0.12      ],\n",
       "       [0.04      , 0.24      , 0.6       , 0.12      ],\n",
       "       [0.33333333, 0.66666667, 0.        , 0.        ],\n",
       "       [0.        , 0.        , 0.        , 1.        ],\n",
       "       [0.        , 0.        , 1.        , 0.        ],\n",
       "       [0.33333333, 0.66666667, 0.        , 0.        ],\n",
       "       [0.        , 1.        , 0.        , 0.        ],\n",
       "       [0.        , 0.        , 0.61111111, 0.38888889],\n",
       "       [1.        , 0.        , 0.        , 0.        ],\n",
       "       [0.        , 0.        , 1.        , 0.        ],\n",
       "       [1.        , 0.        , 0.        , 0.        ],\n",
       "       [0.        , 0.76923077, 0.07692308, 0.15384615],\n",
       "       [0.        , 0.76923077, 0.07692308, 0.15384615],\n",
       "       [0.0625    , 0.        , 0.875     , 0.0625    ],\n",
       "       [1.        , 0.        , 0.        , 0.        ],\n",
       "       [1.        , 0.        , 0.        , 0.        ],\n",
       "       [0.        , 0.91666667, 0.08333333, 0.        ],\n",
       "       [0.04      , 0.24      , 0.6       , 0.12      ],\n",
       "       [0.        , 0.05263158, 0.47368421, 0.47368421],\n",
       "       [1.        , 0.        , 0.        , 0.        ],\n",
       "       [0.        , 0.05263158, 0.47368421, 0.47368421],\n",
       "       [0.08      , 0.28      , 0.6       , 0.04      ],\n",
       "       [0.        , 1.        , 0.        , 0.        ],\n",
       "       [0.        , 0.        , 0.        , 1.        ],\n",
       "       [0.8       , 0.        , 0.2       , 0.        ],\n",
       "       [0.        , 0.        , 0.        , 1.        ],\n",
       "       [0.08      , 0.28      , 0.6       , 0.04      ],\n",
       "       [0.        , 0.91666667, 0.08333333, 0.        ],\n",
       "       [0.        , 0.        , 0.66666667, 0.33333333],\n",
       "       [0.0625    , 0.        , 0.875     , 0.0625    ],\n",
       "       [0.        , 1.        , 0.        , 0.        ],\n",
       "       [0.        , 0.        , 0.        , 1.        ],\n",
       "       [0.66666667, 0.        , 0.33333333, 0.        ],\n",
       "       [1.        , 0.        , 0.        , 0.        ],\n",
       "       [0.        , 1.        , 0.        , 0.        ],\n",
       "       [1.        , 0.        , 0.        , 0.        ],\n",
       "       [0.        , 0.        , 0.61111111, 0.38888889],\n",
       "       [0.        , 0.91666667, 0.08333333, 0.        ],\n",
       "       [0.        , 0.76923077, 0.07692308, 0.15384615],\n",
       "       [0.        , 0.        , 0.        , 1.        ],\n",
       "       [0.66666667, 0.        , 0.33333333, 0.        ],\n",
       "       [0.        , 0.        , 0.        , 1.        ],\n",
       "       [0.33333333, 0.66666667, 0.        , 0.        ],\n",
       "       [0.        , 0.76923077, 0.07692308, 0.15384615],\n",
       "       [0.66666667, 0.        , 0.33333333, 0.        ],\n",
       "       [0.        , 0.        , 0.61111111, 0.38888889],\n",
       "       [0.04      , 0.24      , 0.6       , 0.12      ],\n",
       "       [1.        , 0.        , 0.        , 0.        ],\n",
       "       [1.        , 0.        , 0.        , 0.        ],\n",
       "       [1.        , 0.        , 0.        , 0.        ],\n",
       "       [1.        , 0.        , 0.        , 0.        ],\n",
       "       [0.        , 0.        , 0.08333333, 0.91666667],\n",
       "       [0.25      , 0.75      , 0.        , 0.        ],\n",
       "       [0.        , 0.        , 1.        , 0.        ],\n",
       "       [0.08      , 0.28      , 0.6       , 0.04      ],\n",
       "       [0.        , 1.        , 0.        , 0.        ],\n",
       "       [0.        , 0.91666667, 0.08333333, 0.        ],\n",
       "       [0.08      , 0.28      , 0.6       , 0.04      ],\n",
       "       [0.25      , 0.75      , 0.        , 0.        ],\n",
       "       [0.        , 0.76923077, 0.07692308, 0.15384615],\n",
       "       [0.        , 0.        , 1.        , 0.        ],\n",
       "       [0.        , 1.        , 0.        , 0.        ],\n",
       "       [0.        , 0.        , 0.61111111, 0.38888889],\n",
       "       [0.        , 0.        , 0.        , 1.        ],\n",
       "       [0.        , 0.        , 1.        , 0.        ],\n",
       "       [0.4       , 0.4       , 0.2       , 0.        ],\n",
       "       [0.        , 1.        , 0.        , 0.        ],\n",
       "       [1.        , 0.        , 0.        , 0.        ],\n",
       "       [0.08      , 0.28      , 0.6       , 0.04      ],\n",
       "       [1.        , 0.        , 0.        , 0.        ],\n",
       "       [0.04      , 0.24      , 0.6       , 0.12      ],\n",
       "       [1.        , 0.        , 0.        , 0.        ],\n",
       "       [0.08      , 0.28      , 0.6       , 0.04      ],\n",
       "       [0.04      , 0.24      , 0.6       , 0.12      ],\n",
       "       [1.        , 0.        , 0.        , 0.        ],\n",
       "       [0.04      , 0.24      , 0.6       , 0.12      ],\n",
       "       [0.        , 0.        , 0.        , 1.        ],\n",
       "       [0.        , 0.        , 0.        , 1.        ],\n",
       "       [0.5       , 0.        , 0.5       , 0.        ],\n",
       "       [0.        , 0.        , 0.        , 1.        ],\n",
       "       [0.25      , 0.75      , 0.        , 0.        ],\n",
       "       [1.        , 0.        , 0.        , 0.        ],\n",
       "       [0.08      , 0.28      , 0.6       , 0.04      ],\n",
       "       [0.5       , 0.        , 0.5       , 0.        ],\n",
       "       [0.        , 1.        , 0.        , 0.        ],\n",
       "       [0.        , 0.76923077, 0.07692308, 0.15384615],\n",
       "       [0.11111111, 0.88888889, 0.        , 0.        ],\n",
       "       [0.04      , 0.24      , 0.6       , 0.12      ],\n",
       "       [0.        , 0.        , 0.        , 1.        ],\n",
       "       [0.0625    , 0.        , 0.875     , 0.0625    ],\n",
       "       [0.        , 0.        , 0.66666667, 0.33333333],\n",
       "       [0.08      , 0.28      , 0.6       , 0.04      ]])"
      ]
     },
     "execution_count": 78,
     "metadata": {},
     "output_type": "execute_result"
    }
   ],
   "source": [
    "cc.predict_proba(X_test)"
   ]
  },
  {
   "cell_type": "markdown",
   "metadata": {},
   "source": [
    "#### 예측 비율"
   ]
  },
  {
   "cell_type": "code",
   "execution_count": 79,
   "metadata": {},
   "outputs": [
    {
     "name": "stdout",
     "output_type": "stream",
     "text": [
      "1. ssg :  [[0.08 0.28 0.6  0.04]]\n",
      "2. kium : [[0.08 0.28 0.6  0.04]]\n",
      "3. lg :  [[0.0625 0.     0.875  0.0625]]\n",
      "4. kia :  [[0.         0.         0.61111111 0.38888889]]\n",
      "5. dusan :  [[0.08 0.28 0.6  0.04]]\n",
      "6. samsung :  [[0.08 0.28 0.6  0.04]]\n",
      "7. kt : [[0.08 0.28 0.6  0.04]]\n",
      "8. lotte:  [[0.25 0.75 0.   0.  ]]\n",
      "9. nc : [[0.08 0.28 0.6  0.04]]\n",
      "10. hanhwa : [[1. 0. 0. 0.]]\n"
     ]
    },
    {
     "name": "stderr",
     "output_type": "stream",
     "text": [
      "c:\\Users\\ju-ye\\miniconda3\\envs\\ds_study\\lib\\site-packages\\sklearn\\base.py:450: UserWarning: X does not have valid feature names, but DecisionTreeClassifier was fitted with feature names\n",
      "  warnings.warn(\n",
      "c:\\Users\\ju-ye\\miniconda3\\envs\\ds_study\\lib\\site-packages\\sklearn\\base.py:450: UserWarning: X does not have valid feature names, but DecisionTreeClassifier was fitted with feature names\n",
      "  warnings.warn(\n",
      "c:\\Users\\ju-ye\\miniconda3\\envs\\ds_study\\lib\\site-packages\\sklearn\\base.py:450: UserWarning: X does not have valid feature names, but DecisionTreeClassifier was fitted with feature names\n",
      "  warnings.warn(\n",
      "c:\\Users\\ju-ye\\miniconda3\\envs\\ds_study\\lib\\site-packages\\sklearn\\base.py:450: UserWarning: X does not have valid feature names, but DecisionTreeClassifier was fitted with feature names\n",
      "  warnings.warn(\n",
      "c:\\Users\\ju-ye\\miniconda3\\envs\\ds_study\\lib\\site-packages\\sklearn\\base.py:450: UserWarning: X does not have valid feature names, but DecisionTreeClassifier was fitted with feature names\n",
      "  warnings.warn(\n",
      "c:\\Users\\ju-ye\\miniconda3\\envs\\ds_study\\lib\\site-packages\\sklearn\\base.py:450: UserWarning: X does not have valid feature names, but DecisionTreeClassifier was fitted with feature names\n",
      "  warnings.warn(\n",
      "c:\\Users\\ju-ye\\miniconda3\\envs\\ds_study\\lib\\site-packages\\sklearn\\base.py:450: UserWarning: X does not have valid feature names, but DecisionTreeClassifier was fitted with feature names\n",
      "  warnings.warn(\n",
      "c:\\Users\\ju-ye\\miniconda3\\envs\\ds_study\\lib\\site-packages\\sklearn\\base.py:450: UserWarning: X does not have valid feature names, but DecisionTreeClassifier was fitted with feature names\n",
      "  warnings.warn(\n",
      "c:\\Users\\ju-ye\\miniconda3\\envs\\ds_study\\lib\\site-packages\\sklearn\\base.py:450: UserWarning: X does not have valid feature names, but DecisionTreeClassifier was fitted with feature names\n",
      "  warnings.warn(\n",
      "c:\\Users\\ju-ye\\miniconda3\\envs\\ds_study\\lib\\site-packages\\sklearn\\base.py:450: UserWarning: X does not have valid feature names, but DecisionTreeClassifier was fitted with feature names\n",
      "  warnings.warn(\n"
     ]
    }
   ],
   "source": [
    "print('1. ssg : ', cc.predict_proba(ssg)),\n",
    "print('2. kium :', cc.predict_proba(kium)),\n",
    "print('3. lg : ', cc.predict_proba(lg)),\n",
    "print('4. kia : ', cc.predict_proba(kia)), \n",
    "print('5. dusan : ', cc.predict_proba(dusan)),\n",
    "print('6. samsung : ', cc.predict_proba(samsung)), \n",
    "print('7. kt :', cc.predict_proba(kt)), \n",
    "print('8. lotte: ', cc.predict_proba(lotte)), \n",
    "print('9. nc :', cc.predict_proba(nc)), \n",
    "print('10. hanhwa :', cc.predict_proba(hanhwa))"
   ]
  },
  {
   "cell_type": "markdown",
   "metadata": {},
   "source": [
    "### 다른 model 확인"
   ]
  },
  {
   "cell_type": "code",
   "execution_count": 80,
   "metadata": {},
   "outputs": [],
   "source": [
    "# 모델+data 있으면 성능 출력하는 함수\n",
    "def get_result_m(model, X_train, y_train, X_test, y_test):\n",
    "    model.fit(X_train, y_train)\n",
    "    pred=model.predict(X_test)\n",
    "    return get_clf_eval_m(y_test, pred)"
   ]
  },
  {
   "cell_type": "code",
   "execution_count": 81,
   "metadata": {},
   "outputs": [],
   "source": [
    "# 모델+data 있으면 성능 출력하는 함수\n",
    "def get_result_w(model, X_train, y_train, X_test, y_test):\n",
    "    model.fit(X_train, y_train)\n",
    "    pred=model.predict(X_test)\n",
    "    return get_clf_eval_w(y_test, pred)"
   ]
  },
  {
   "cell_type": "code",
   "execution_count": 82,
   "metadata": {},
   "outputs": [],
   "source": [
    "# 다수의 모델의 성능 출력하는 함수\n",
    "def get_result_pd_m(models, model_names, X_train, y_train, X_test, y_test):\n",
    "    col_names=['accuracy', 'precision', 'recall', 'f1', 'roc_auc']\n",
    "    tmp=[]\n",
    "    \n",
    "    for model in models:\n",
    "        tmp.append(get_result_m(model, X_train, y_train, X_test, y_test))\n",
    "    \n",
    "    return pd.DataFrame(tmp, columns=col_names, index=model_names)"
   ]
  },
  {
   "cell_type": "code",
   "execution_count": 83,
   "metadata": {},
   "outputs": [],
   "source": [
    "# 다수의 모델의 성능 출력하는 함수\n",
    "def get_result_pd_w(models, model_names, X_train, y_train, X_test, y_test):\n",
    "    col_names=['accuracy', 'precision', 'recall', 'f1', 'roc_auc']\n",
    "    tmp=[]\n",
    "    \n",
    "    for model in models:\n",
    "        tmp.append(get_result_w(model, X_train, y_train, X_test, y_test))\n",
    "    \n",
    "    return pd.DataFrame(tmp, columns=col_names, index=model_names)"
   ]
  },
  {
   "cell_type": "code",
   "execution_count": 84,
   "metadata": {},
   "outputs": [],
   "source": [
    "from sklearn.linear_model import LogisticRegression\n",
    "from sklearn.tree import DecisionTreeClassifier\n",
    "from sklearn.ensemble import RandomForestClassifier\n",
    "from lightgbm import LGBMClassifier\n",
    "\n",
    "lr_clf=LogisticRegression(random_state=13, solver='liblinear')\n",
    "dt_clf=DecisionTreeClassifier(random_state=13, max_depth=7)\n",
    "rf_clf=RandomForestClassifier(random_state=13, n_jobs=-1, n_estimators=100)\n",
    "lgbm_clf=LGBMClassifier(n_estimators=1000, num_leaves=64, n_jobs=-1, boost_from_average=False)"
   ]
  },
  {
   "cell_type": "code",
   "execution_count": 85,
   "metadata": {},
   "outputs": [
    {
     "name": "stdout",
     "output_type": "stream",
     "text": [
      "Fit time :  8.67140531539917\n",
      "              accuracy  precision    recall        f1   roc_auc\n",
      "LogisticReg   0.472050   0.472050  0.472050  0.472050  0.723394\n",
      "DecisionTree  0.540373   0.540373  0.540373  0.540373  0.723394\n",
      "RandomForest  0.552795   0.552795  0.552795  0.552795  0.723394\n",
      "LightGBM      0.503106   0.503106  0.503106  0.503106  0.723394\n"
     ]
    },
    {
     "data": {
      "text/plain": [
       "(None, None)"
      ]
     },
     "execution_count": 85,
     "metadata": {},
     "output_type": "execute_result"
    }
   ],
   "source": [
    "import time\n",
    "\n",
    "models = [lr_clf, dt_clf, rf_clf, lgbm_clf]\n",
    "model_names=['LogisticReg', 'DecisionTree', 'RandomForest', 'LightGBM']\n",
    " \n",
    "start_time=time.time()\n",
    "results=get_result_pd_m(models, model_names, X_train, y_train, X_test, y_test)\n",
    "\n",
    "print('Fit time : ', time.time() - start_time), print(results)"
   ]
  },
  {
   "cell_type": "code",
   "execution_count": 86,
   "metadata": {},
   "outputs": [
    {
     "name": "stderr",
     "output_type": "stream",
     "text": [
      "c:\\Users\\ju-ye\\miniconda3\\envs\\ds_study\\lib\\site-packages\\sklearn\\metrics\\_classification.py:1318: UndefinedMetricWarning: Precision is ill-defined and being set to 0.0 in labels with no predicted samples. Use `zero_division` parameter to control this behavior.\n",
      "  _warn_prf(average, modifier, msg_start, len(result))\n"
     ]
    },
    {
     "name": "stdout",
     "output_type": "stream",
     "text": [
      "Fit time :  5.108438014984131\n",
      "              accuracy  precision    recall        f1   roc_auc\n",
      "LogisticReg   0.472050   0.369248  0.472050  0.412458  0.723394\n",
      "DecisionTree  0.540373   0.559196  0.540373  0.538600  0.723394\n",
      "RandomForest  0.552795   0.559112  0.552795  0.552633  0.723394\n",
      "LightGBM      0.503106   0.502774  0.503106  0.501447  0.723394\n"
     ]
    },
    {
     "data": {
      "text/plain": [
       "(None, None)"
      ]
     },
     "execution_count": 86,
     "metadata": {},
     "output_type": "execute_result"
    }
   ],
   "source": [
    "import time\n",
    "\n",
    "models = [lr_clf, dt_clf, rf_clf, lgbm_clf]\n",
    "model_names=['LogisticReg', 'DecisionTree', 'RandomForest', 'LightGBM']\n",
    " \n",
    "start_time=time.time()\n",
    "results=get_result_pd_w(models, model_names, X_train, y_train, X_test, y_test)\n",
    "\n",
    "print('Fit time : ', time.time() - start_time), print(results)"
   ]
  }
 ],
 "metadata": {
  "kernelspec": {
   "display_name": "Python 3.8.10 ('ds_study')",
   "language": "python",
   "name": "python3"
  },
  "language_info": {
   "codemirror_mode": {
    "name": "ipython",
    "version": 3
   },
   "file_extension": ".py",
   "mimetype": "text/x-python",
   "name": "python",
   "nbconvert_exporter": "python",
   "pygments_lexer": "ipython3",
   "version": "3.8.10"
  },
  "orig_nbformat": 4,
  "vscode": {
   "interpreter": {
    "hash": "8732d8724e13a34446af07cd964963f11c6ba042254b07431e7eaab0db3f24cb"
   }
  }
 },
 "nbformat": 4,
 "nbformat_minor": 2
}
